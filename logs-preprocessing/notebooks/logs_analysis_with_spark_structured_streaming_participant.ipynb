{
 "cells": [
  {
   "cell_type": "code",
   "execution_count": 1,
   "metadata": {},
   "outputs": [],
   "source": [
    "from pyspark import SparkContext, SparkConf, SQLContext, Row\n",
    "from pyspark.streaming import StreamingContext\n",
    "from pyspark.sql import SparkSession\n",
    "from pyspark.sql.functions import *\n",
    "from pyspark.sql.types import *\n",
    "import json\n",
    "from os import listdir\n",
    "from os.path import isfile, join\n",
    "import platform\n",
    "import pandas as pd\n",
    "from itertools import chain\n",
    "import pyspark.sql.functions as func\n",
    "from datetime import datetime\n",
    "import numpy as np\n",
    "import os\n",
    "from pyspark.sql.types import StructType, StructField, IntegerType, StringType, TimestampType, ArrayType"
   ]
  },
  {
   "cell_type": "code",
   "execution_count": 2,
   "metadata": {},
   "outputs": [],
   "source": [
    "os.environ[\"PYSPARK_SUBMIT_ARGS\"] = \"--packages com.datastax.spark:spark-cassandra-connector_2.12:3.0.0,org.apache.spark:spark-sql-kafka-0-10_2.12:3.0.1 --conf spark.cassandra.connection.host=127.0.0.1 --conf spark.cassandra.connection.port=9042 --conf spark.cassandra.auth.username=cassandra --conf spark.cassandra.auth.password=cassandra pyspark-shell\""
   ]
  },
  {
   "cell_type": "code",
   "execution_count": 3,
   "metadata": {},
   "outputs": [],
   "source": [
    "KAFKA_BOOTSTRAP_SERVER = \"localhost:9092\""
   ]
  },
  {
   "cell_type": "code",
   "execution_count": 4,
   "metadata": {},
   "outputs": [],
   "source": [
    "spark = SparkSession \\\n",
    "        .builder \\\n",
    "        .appName(\"LogsAnalysisWithSpark\") \\\n",
    "        .master(\"local[*]\") \\\n",
    "        .getOrCreate()"
   ]
  },
  {
   "cell_type": "code",
   "execution_count": 5,
   "metadata": {},
   "outputs": [],
   "source": [
    "spark.conf.set(\"spark.sql.legacy.timeParserPolicy\",\"LEGACY\")"
   ]
  },
  {
   "cell_type": "code",
   "execution_count": 6,
   "metadata": {},
   "outputs": [],
   "source": [
    "sample = spark.read.json(\"../../preprocessed/roster_data.json\")\n",
    "schema = sample.schema"
   ]
  },
  {
   "cell_type": "code",
   "execution_count": 7,
   "metadata": {},
   "outputs": [],
   "source": [
    "def get_stream_for_topics(topics, spark, kafka_server):\n",
    "    return spark.readStream\\\n",
    "    .format(\"kafka\")\\\n",
    "    .option(\"kafka.bootstrap.servers\", kafka_server)\\\n",
    "    .option(\"subscribe\", \",\".join(topics))\\\n",
    "    .load()"
   ]
  },
  {
   "cell_type": "code",
   "execution_count": 8,
   "metadata": {
    "scrolled": false
   },
   "outputs": [],
   "source": [
    "streamingInputDF = get_stream_for_topics([\"rosterUpdate11\"], spark, KAFKA_BOOTSTRAP_SERVER)"
   ]
  },
  {
   "cell_type": "code",
   "execution_count": 9,
   "metadata": {},
   "outputs": [],
   "source": [
    "valuesDF = streamingInputDF.selectExpr(\"CAST(value AS STRING)\")"
   ]
  },
  {
   "cell_type": "code",
   "execution_count": 10,
   "metadata": {},
   "outputs": [],
   "source": [
    "eventsDF = valuesDF.withColumn(\"event\", from_json(valuesDF.value, schema)).select(\"event\")"
   ]
  },
  {
   "cell_type": "code",
   "execution_count": 11,
   "metadata": {
    "tags": []
   },
   "outputs": [
    {
     "name": "stdout",
     "output_type": "stream",
     "text": [
      "root\n",
      " |-- event: struct (nullable = true)\n",
      " |    |-- call: string (nullable = true)\n",
      " |    |-- date: string (nullable = true)\n",
      " |    |-- message: struct (nullable = true)\n",
      " |    |    |-- messageId: long (nullable = true)\n",
      " |    |    |-- subscriptionIndex: long (nullable = true)\n",
      " |    |    |-- type: string (nullable = true)\n",
      " |    |    |-- updates: array (nullable = true)\n",
      " |    |    |    |-- element: struct (containsNull = true)\n",
      " |    |    |    |    |-- activeSpeaker: boolean (nullable = true)\n",
      " |    |    |    |    |-- canMove: boolean (nullable = true)\n",
      " |    |    |    |    |-- direction: string (nullable = true)\n",
      " |    |    |    |    |-- endpointRecording: string (nullable = true)\n",
      " |    |    |    |    |-- layout: string (nullable = true)\n",
      " |    |    |    |    |-- movedParticipant: string (nullable = true)\n",
      " |    |    |    |    |-- movedParticipantCallBridge: string (nullable = true)\n",
      " |    |    |    |    |-- name: string (nullable = true)\n",
      " |    |    |    |    |-- participant: string (nullable = true)\n",
      " |    |    |    |    |-- presenter: boolean (nullable = true)\n",
      " |    |    |    |    |-- state: string (nullable = true)\n",
      " |    |    |    |    |-- updateType: string (nullable = true)\n",
      " |    |    |    |    |-- uri: string (nullable = true)\n",
      " |    |-- type: string (nullable = true)\n",
      "\n"
     ]
    }
   ],
   "source": [
    "eventsDF.printSchema()"
   ]
  },
  {
   "cell_type": "code",
   "execution_count": 12,
   "metadata": {},
   "outputs": [],
   "source": [
    "messagesDF = eventsDF.withColumn(\"date\", eventsDF.event.date)\\\n",
    "                     .withColumn(\"message\", eventsDF.event.message)\\\n",
    "                     .withColumn(\"call\", eventsDF.event.call)\\\n",
    "                     .select(\"message\", \"date\", \"call\")"
   ]
  },
  {
   "cell_type": "code",
   "execution_count": 13,
   "metadata": {},
   "outputs": [],
   "source": [
    "preprocessedDF = messagesDF.select(\"date\", \"call\", explode(messagesDF.message.updates))"
   ]
  },
  {
   "cell_type": "code",
   "execution_count": 14,
   "metadata": {
    "scrolled": true,
    "tags": []
   },
   "outputs": [
    {
     "name": "stdout",
     "output_type": "stream",
     "text": [
      "root\n",
      " |-- date: string (nullable = true)\n",
      " |-- call: string (nullable = true)\n",
      " |-- col: struct (nullable = true)\n",
      " |    |-- activeSpeaker: boolean (nullable = true)\n",
      " |    |-- canMove: boolean (nullable = true)\n",
      " |    |-- direction: string (nullable = true)\n",
      " |    |-- endpointRecording: string (nullable = true)\n",
      " |    |-- layout: string (nullable = true)\n",
      " |    |-- movedParticipant: string (nullable = true)\n",
      " |    |-- movedParticipantCallBridge: string (nullable = true)\n",
      " |    |-- name: string (nullable = true)\n",
      " |    |-- participant: string (nullable = true)\n",
      " |    |-- presenter: boolean (nullable = true)\n",
      " |    |-- state: string (nullable = true)\n",
      " |    |-- updateType: string (nullable = true)\n",
      " |    |-- uri: string (nullable = true)\n",
      "\n"
     ]
    }
   ],
   "source": [
    "preprocessedDF.printSchema()"
   ]
  },
  {
   "cell_type": "code",
   "execution_count": 15,
   "metadata": {},
   "outputs": [],
   "source": [
    "col = preprocessedDF.col"
   ]
  },
  {
   "cell_type": "code",
   "execution_count": 16,
   "metadata": {},
   "outputs": [],
   "source": [
    "finalDF = preprocessedDF.select(preprocessedDF.call,\n",
    "                      preprocessedDF.date,\n",
    "                      col.activeSpeaker.alias(\"activeSpeaker\"),\n",
    "                      col.canMove.alias(\"canMove\"),\n",
    "                      col.direction.alias(\"direction\"),\n",
    "                      col.endpointRecording.alias(\"endpointRecording\"),\n",
    "                      col.layout.alias(\"layout\"),\n",
    "                      col.movedParticipant.alias(\"movedParticipant\"),\n",
    "                      col.movedParticipantCallBridge.alias(\"movedParticipantCallBridge\"),\n",
    "#                       col.name.alias(\"name\"),\n",
    "                      col.participant.alias(\"participant\"),\n",
    "                      col.presenter.alias(\"presenter\"),\n",
    "                      col.state.alias(\"state\"),\n",
    "                      col.updateType.alias(\"updateType\"),\n",
    "                      col.uri.alias(\"uri\"))"
   ]
  },
  {
   "cell_type": "code",
   "execution_count": 17,
   "metadata": {},
   "outputs": [],
   "source": [
    "# Liczba uczestników w stanie initial -> initial\n",
    "# Liczba uczestników w stanie ringing -> ringing\n",
    "# Liczba uczestników w stanie connected -> connected\n",
    "# Liczba uczestników w stanie onHold -> onhold\n",
    "# Liczba uczestników z audioMuted -> audiomuted (chyba brakuje w przetworzonych danych)\n",
    "# Liczba uczestników z videoMuted -> videomuted (chyba brakuje w przetworzonych danych)\n",
    "# Liczba uczestników z activeSpeaker -> activespeaker\n",
    "# Liczba uczestników presenter -> presenter\n",
    "# Liczba uczestników endpointRecording -> endpointrecording"
   ]
  },
  {
   "cell_type": "code",
   "execution_count": 18,
   "metadata": {},
   "outputs": [],
   "source": [
    "groupedDF = finalDF.withColumn(\"struct\", struct(\"state\", \"activeSpeaker\", \"presenter\", \"endpointRecording\", \"participant\", \"date\", \"updateType\"))\\\n",
    "                   .groupBy(\"call\")\\\n",
    "                   .agg(func.collect_list(\"struct\").alias(\"structArray\"))"
   ]
  },
  {
   "cell_type": "code",
   "execution_count": 19,
   "metadata": {
    "tags": []
   },
   "outputs": [
    {
     "name": "stdout",
     "output_type": "stream",
     "text": [
      "root\n",
      " |-- call: string (nullable = true)\n",
      " |-- structArray: array (nullable = true)\n",
      " |    |-- element: struct (containsNull = false)\n",
      " |    |    |-- state: string (nullable = true)\n",
      " |    |    |-- activeSpeaker: boolean (nullable = true)\n",
      " |    |    |-- presenter: boolean (nullable = true)\n",
      " |    |    |-- endpointRecording: string (nullable = true)\n",
      " |    |    |-- participant: string (nullable = true)\n",
      " |    |    |-- date: string (nullable = true)\n",
      " |    |    |-- updateType: string (nullable = true)\n",
      "\n"
     ]
    }
   ],
   "source": [
    "groupedDF.printSchema()"
   ]
  },
  {
   "cell_type": "code",
   "execution_count": 20,
   "metadata": {},
   "outputs": [],
   "source": [
    "def get_last_nonempty_value(values):\n",
    "    nonempty_values = [i for i in values if i]\n",
    "    return nonempty_values[-1] if nonempty_values else None"
   ]
  },
  {
   "cell_type": "code",
   "execution_count": 21,
   "metadata": {},
   "outputs": [],
   "source": [
    "def get_current_value(events, field):\n",
    "    values = [event[field] for event in events]\n",
    "    return get_last_nonempty_value(values)"
   ]
  },
  {
   "cell_type": "code",
   "execution_count": 22,
   "metadata": {},
   "outputs": [],
   "source": [
    "def count_true_values(values):\n",
    "    return len([value for value in values if value and value is not None])"
   ]
  },
  {
   "cell_type": "code",
   "execution_count": 23,
   "metadata": {},
   "outputs": [],
   "source": [
    "class CallStats:\n",
    "    def __init__(self, initial, connected, onhold, ringing, presenter, active_speaker, endpoint_recording, date):\n",
    "        self.initial = initial\n",
    "        self.connected = connected\n",
    "        self.onhold = onhold\n",
    "        self.ringing = ringing\n",
    "        self.presenter = presenter\n",
    "        self.active_speaker = active_speaker\n",
    "        self.endpoint_recording = endpoint_recording\n",
    "        self.datetime = date"
   ]
  },
  {
   "cell_type": "code",
   "execution_count": 24,
   "metadata": {},
   "outputs": [],
   "source": [
    "call_stats_schema = StructType([\\\n",
    "    StructField(\"initial\", IntegerType(), False),\n",
    "    StructField(\"connected\", IntegerType(), False),\n",
    "    StructField(\"onhold\", IntegerType(), False),\n",
    "    StructField(\"ringing\", IntegerType(), False),\n",
    "    StructField(\"presenter\", IntegerType(), False),\n",
    "    StructField(\"active_speaker\", IntegerType(), False),\n",
    "    StructField(\"endpoint_recording\", IntegerType(), False),\n",
    "    StructField(\"datetime\", TimestampType())\n",
    "])"
   ]
  },
  {
   "cell_type": "code",
   "execution_count": 25,
   "metadata": {},
   "outputs": [],
   "source": [
    "# Może da się to jakoś zoptymalizować? xD\n",
    "def get_current_values(struct_array):\n",
    "    import operator\n",
    "    struct_array.sort(key = operator.itemgetter(\"date\"))\n",
    "    pattern = '%Y-%m-%dT%H:%M:%S.%f'\n",
    "    date = datetime.strptime([struct[\"date\"] for struct in struct_array][-1], pattern)\n",
    "    \n",
    "    removed = [struct[\"participant\"] for struct in struct_array if struct[\"updateType\"]==\"remove\"]\n",
    "    current = [struct for struct in struct_array if struct[\"participant\"] not in removed]\n",
    "    participant_dict = dict()\n",
    "    \n",
    "    for struct in current:\n",
    "        participant = struct[\"participant\"]\n",
    "        if participant in participant_dict:\n",
    "            participant_dict[participant].append(struct)\n",
    "        else:\n",
    "            participant_dict[participant] = [struct]\n",
    "    \n",
    "    grouped = list(participant_dict.values())\n",
    "    \n",
    "    fields = [\"state\", \"presenter\", \"activeSpeaker\", \"endpointRecording\"]\n",
    "    final = {field:list() for field in fields}\n",
    "    for events in grouped:\n",
    "        for field in fields:\n",
    "            final[field].append(get_current_value(events, field))\n",
    "    \n",
    "    final[\"initial\"] = 0\n",
    "    final[\"connected\"] = 0\n",
    "    final[\"onhold\"] = 0\n",
    "    final[\"ringing\"] = 0\n",
    "    \n",
    "    for state in final[\"state\"]:\n",
    "        final[state] = final[state]+1\n",
    "        \n",
    "    final[\"presenter_sum\"] = count_true_values(final[\"presenter\"])\n",
    "    final[\"activeSpeaker_sum\"] = count_true_values(final[\"activeSpeaker\"])\n",
    "    final[\"endpointRecording_sum\"] = count_true_values(final[\"endpointRecording\"])\n",
    "    \n",
    "    return CallStats(final[\"initial\"],\n",
    "                    final[\"connected\"],\n",
    "                    final[\"onhold\"],\n",
    "                    final[\"ringing\"],\n",
    "                    final[\"presenter_sum\"],\n",
    "                    final[\"activeSpeaker_sum\"],\n",
    "                    final[\"endpointRecording_sum\"],\n",
    "                    date)\n",
    "\n",
    "get_current_values_udf = udf(get_current_values, call_stats_schema)"
   ]
  },
  {
   "cell_type": "code",
   "execution_count": 26,
   "metadata": {},
   "outputs": [],
   "source": [
    "concat_udf = udf(lambda cols: \"\".join([x if x is not None else \"*\" for x in cols]), StringType())"
   ]
  },
  {
   "cell_type": "code",
   "execution_count": 27,
   "metadata": {},
   "outputs": [
    {
     "data": {
      "text/plain": [
       "<function __main__.<lambda>(cols)>"
      ]
     },
     "execution_count": 27,
     "metadata": {},
     "output_type": "execute_result"
    }
   ],
   "source": [
    "spark.udf.register(\"get_current_values_udf\", get_current_values_udf)\n",
    "spark.udf.register(\"concat_udf\", concat_udf)"
   ]
  },
  {
   "cell_type": "code",
   "execution_count": 28,
   "metadata": {},
   "outputs": [],
   "source": [
    "currentDF = groupedDF.withColumn(\"current_values\", get_current_values_udf(\"structArray\"))"
   ]
  },
  {
   "cell_type": "code",
   "execution_count": 29,
   "metadata": {
    "tags": []
   },
   "outputs": [
    {
     "name": "stdout",
     "output_type": "stream",
     "text": [
      "root\n",
      " |-- call: string (nullable = true)\n",
      " |-- structArray: array (nullable = true)\n",
      " |    |-- element: struct (containsNull = false)\n",
      " |    |    |-- state: string (nullable = true)\n",
      " |    |    |-- activeSpeaker: boolean (nullable = true)\n",
      " |    |    |-- presenter: boolean (nullable = true)\n",
      " |    |    |-- endpointRecording: string (nullable = true)\n",
      " |    |    |-- participant: string (nullable = true)\n",
      " |    |    |-- date: string (nullable = true)\n",
      " |    |    |-- updateType: string (nullable = true)\n",
      " |-- current_values: struct (nullable = true)\n",
      " |    |-- initial: integer (nullable = false)\n",
      " |    |-- connected: integer (nullable = false)\n",
      " |    |-- onhold: integer (nullable = false)\n",
      " |    |-- ringing: integer (nullable = false)\n",
      " |    |-- presenter: integer (nullable = false)\n",
      " |    |-- active_speaker: integer (nullable = false)\n",
      " |    |-- endpoint_recording: integer (nullable = false)\n",
      " |    |-- datetime: timestamp (nullable = true)\n",
      "\n"
     ]
    }
   ],
   "source": [
    "currentDF.printSchema()"
   ]
  },
  {
   "cell_type": "code",
   "execution_count": 30,
   "metadata": {},
   "outputs": [],
   "source": [
    "values = currentDF.current_values"
   ]
  },
  {
   "cell_type": "code",
   "execution_count": 31,
   "metadata": {},
   "outputs": [],
   "source": [
    "testDF = currentDF.select(values.initial.alias(\"initial\"),\n",
    "                          values.connected.alias(\"connected\"),\n",
    "                          values.onhold.alias(\"onhold\"),\n",
    "                          values.ringing.alias(\"ringing\"),\n",
    "                          values.presenter.alias(\"presenter\"),\n",
    "                          values.active_speaker.alias(\"active_speaker\"),\n",
    "                          values.endpoint_recording.alias(\"endpoint_recording\"),\n",
    "                          values.datetime.alias(\"datetime\"),\n",
    "                          currentDF.call.alias(\"call_id\"))\\\n",
    "                   .withColumn(\"id\", concat_udf(func.array(\"call_id\", \"datetime\")))\\\n",
    "                   .withColumn(\"hour\", hour(\"datetime\"))\\\n",
    "                   .withColumn(\"week_day_number\", date_format(\"datetime\", 'u').cast(IntegerType()))"
   ]
  },
  {
   "cell_type": "code",
   "execution_count": 32,
   "metadata": {
    "scrolled": true,
    "tags": []
   },
   "outputs": [
    {
     "name": "stdout",
     "output_type": "stream",
     "text": [
      "root\n",
      " |-- initial: integer (nullable = true)\n",
      " |-- connected: integer (nullable = true)\n",
      " |-- onhold: integer (nullable = true)\n",
      " |-- ringing: integer (nullable = true)\n",
      " |-- presenter: integer (nullable = true)\n",
      " |-- active_speaker: integer (nullable = true)\n",
      " |-- endpoint_recording: integer (nullable = true)\n",
      " |-- datetime: timestamp (nullable = true)\n",
      " |-- call_id: string (nullable = true)\n",
      " |-- id: string (nullable = true)\n",
      " |-- hour: integer (nullable = true)\n",
      " |-- week_day_number: integer (nullable = true)\n",
      "\n"
     ]
    }
   ],
   "source": [
    "testDF.printSchema()"
   ]
  },
  {
   "cell_type": "code",
   "execution_count": 33,
   "metadata": {},
   "outputs": [],
   "source": [
    "def writeToCassandra(writeDF, epochId):\n",
    "     writeDF.write \\\n",
    "        .format(\"org.apache.spark.sql.cassandra\") \\\n",
    "        .options(table=\"test_part\", keyspace=\"engineering\")\\\n",
    "        .mode(\"append\") \\\n",
    "        .save()"
   ]
  },
  {
   "cell_type": "code",
   "execution_count": 34,
   "metadata": {},
   "outputs": [],
   "source": [
    "writer = testDF\\\n",
    "        .writeStream\\\n",
    "        .outputMode(\"complete\")\\\n",
    "        .foreachBatch(writeToCassandra)"
   ]
  },
  {
   "cell_type": "code",
   "execution_count": 35,
   "metadata": {},
   "outputs": [
    {
     "ename": "KeyboardInterrupt",
     "evalue": "",
     "output_type": "error",
     "traceback": [
      "\u001b[0;31m---------------------------------------------------------------------------\u001b[0m",
      "\u001b[0;31mKeyboardInterrupt\u001b[0m                         Traceback (most recent call last)",
      "\u001b[0;32m<ipython-input-35-0e1b705525be>\u001b[0m in \u001b[0;36m<module>\u001b[0;34m\u001b[0m\n\u001b[1;32m      1\u001b[0m \u001b[0mquery\u001b[0m \u001b[0;34m=\u001b[0m \u001b[0mwriter\u001b[0m\u001b[0;34m.\u001b[0m\u001b[0mstart\u001b[0m\u001b[0;34m(\u001b[0m\u001b[0;34m)\u001b[0m\u001b[0;34m\u001b[0m\u001b[0;34m\u001b[0m\u001b[0m\n\u001b[0;32m----> 2\u001b[0;31m \u001b[0mquery\u001b[0m\u001b[0;34m.\u001b[0m\u001b[0mawaitTermination\u001b[0m\u001b[0;34m(\u001b[0m\u001b[0;34m)\u001b[0m\u001b[0;34m\u001b[0m\u001b[0;34m\u001b[0m\u001b[0m\n\u001b[0m",
      "\u001b[0;32m~/.local/lib/python3.8/site-packages/pyspark/sql/streaming.py\u001b[0m in \u001b[0;36mawaitTermination\u001b[0;34m(self, timeout)\u001b[0m\n\u001b[1;32m    101\u001b[0m             \u001b[0;32mreturn\u001b[0m \u001b[0mself\u001b[0m\u001b[0;34m.\u001b[0m\u001b[0m_jsq\u001b[0m\u001b[0;34m.\u001b[0m\u001b[0mawaitTermination\u001b[0m\u001b[0;34m(\u001b[0m\u001b[0mint\u001b[0m\u001b[0;34m(\u001b[0m\u001b[0mtimeout\u001b[0m \u001b[0;34m*\u001b[0m \u001b[0;36m1000\u001b[0m\u001b[0;34m)\u001b[0m\u001b[0;34m)\u001b[0m\u001b[0;34m\u001b[0m\u001b[0;34m\u001b[0m\u001b[0m\n\u001b[1;32m    102\u001b[0m         \u001b[0;32melse\u001b[0m\u001b[0;34m:\u001b[0m\u001b[0;34m\u001b[0m\u001b[0;34m\u001b[0m\u001b[0m\n\u001b[0;32m--> 103\u001b[0;31m             \u001b[0;32mreturn\u001b[0m \u001b[0mself\u001b[0m\u001b[0;34m.\u001b[0m\u001b[0m_jsq\u001b[0m\u001b[0;34m.\u001b[0m\u001b[0mawaitTermination\u001b[0m\u001b[0;34m(\u001b[0m\u001b[0;34m)\u001b[0m\u001b[0;34m\u001b[0m\u001b[0;34m\u001b[0m\u001b[0m\n\u001b[0m\u001b[1;32m    104\u001b[0m \u001b[0;34m\u001b[0m\u001b[0m\n\u001b[1;32m    105\u001b[0m     \u001b[0;34m@\u001b[0m\u001b[0mproperty\u001b[0m\u001b[0;34m\u001b[0m\u001b[0;34m\u001b[0m\u001b[0m\n",
      "\u001b[0;32m~/.local/lib/python3.8/site-packages/py4j/java_gateway.py\u001b[0m in \u001b[0;36m__call__\u001b[0;34m(self, *args)\u001b[0m\n\u001b[1;32m   1301\u001b[0m             \u001b[0mproto\u001b[0m\u001b[0;34m.\u001b[0m\u001b[0mEND_COMMAND_PART\u001b[0m\u001b[0;34m\u001b[0m\u001b[0;34m\u001b[0m\u001b[0m\n\u001b[1;32m   1302\u001b[0m \u001b[0;34m\u001b[0m\u001b[0m\n\u001b[0;32m-> 1303\u001b[0;31m         \u001b[0manswer\u001b[0m \u001b[0;34m=\u001b[0m \u001b[0mself\u001b[0m\u001b[0;34m.\u001b[0m\u001b[0mgateway_client\u001b[0m\u001b[0;34m.\u001b[0m\u001b[0msend_command\u001b[0m\u001b[0;34m(\u001b[0m\u001b[0mcommand\u001b[0m\u001b[0;34m)\u001b[0m\u001b[0;34m\u001b[0m\u001b[0;34m\u001b[0m\u001b[0m\n\u001b[0m\u001b[1;32m   1304\u001b[0m         return_value = get_return_value(\n\u001b[1;32m   1305\u001b[0m             answer, self.gateway_client, self.target_id, self.name)\n",
      "\u001b[0;32m~/.local/lib/python3.8/site-packages/py4j/java_gateway.py\u001b[0m in \u001b[0;36msend_command\u001b[0;34m(self, command, retry, binary)\u001b[0m\n\u001b[1;32m   1031\u001b[0m         \u001b[0mconnection\u001b[0m \u001b[0;34m=\u001b[0m \u001b[0mself\u001b[0m\u001b[0;34m.\u001b[0m\u001b[0m_get_connection\u001b[0m\u001b[0;34m(\u001b[0m\u001b[0;34m)\u001b[0m\u001b[0;34m\u001b[0m\u001b[0;34m\u001b[0m\u001b[0m\n\u001b[1;32m   1032\u001b[0m         \u001b[0;32mtry\u001b[0m\u001b[0;34m:\u001b[0m\u001b[0;34m\u001b[0m\u001b[0;34m\u001b[0m\u001b[0m\n\u001b[0;32m-> 1033\u001b[0;31m             \u001b[0mresponse\u001b[0m \u001b[0;34m=\u001b[0m \u001b[0mconnection\u001b[0m\u001b[0;34m.\u001b[0m\u001b[0msend_command\u001b[0m\u001b[0;34m(\u001b[0m\u001b[0mcommand\u001b[0m\u001b[0;34m)\u001b[0m\u001b[0;34m\u001b[0m\u001b[0;34m\u001b[0m\u001b[0m\n\u001b[0m\u001b[1;32m   1034\u001b[0m             \u001b[0;32mif\u001b[0m \u001b[0mbinary\u001b[0m\u001b[0;34m:\u001b[0m\u001b[0;34m\u001b[0m\u001b[0;34m\u001b[0m\u001b[0m\n\u001b[1;32m   1035\u001b[0m                 \u001b[0;32mreturn\u001b[0m \u001b[0mresponse\u001b[0m\u001b[0;34m,\u001b[0m \u001b[0mself\u001b[0m\u001b[0;34m.\u001b[0m\u001b[0m_create_connection_guard\u001b[0m\u001b[0;34m(\u001b[0m\u001b[0mconnection\u001b[0m\u001b[0;34m)\u001b[0m\u001b[0;34m\u001b[0m\u001b[0;34m\u001b[0m\u001b[0m\n",
      "\u001b[0;32m~/.local/lib/python3.8/site-packages/py4j/java_gateway.py\u001b[0m in \u001b[0;36msend_command\u001b[0;34m(self, command)\u001b[0m\n\u001b[1;32m   1198\u001b[0m \u001b[0;34m\u001b[0m\u001b[0m\n\u001b[1;32m   1199\u001b[0m         \u001b[0;32mtry\u001b[0m\u001b[0;34m:\u001b[0m\u001b[0;34m\u001b[0m\u001b[0;34m\u001b[0m\u001b[0m\n\u001b[0;32m-> 1200\u001b[0;31m             \u001b[0manswer\u001b[0m \u001b[0;34m=\u001b[0m \u001b[0msmart_decode\u001b[0m\u001b[0;34m(\u001b[0m\u001b[0mself\u001b[0m\u001b[0;34m.\u001b[0m\u001b[0mstream\u001b[0m\u001b[0;34m.\u001b[0m\u001b[0mreadline\u001b[0m\u001b[0;34m(\u001b[0m\u001b[0;34m)\u001b[0m\u001b[0;34m[\u001b[0m\u001b[0;34m:\u001b[0m\u001b[0;34m-\u001b[0m\u001b[0;36m1\u001b[0m\u001b[0;34m]\u001b[0m\u001b[0;34m)\u001b[0m\u001b[0;34m\u001b[0m\u001b[0;34m\u001b[0m\u001b[0m\n\u001b[0m\u001b[1;32m   1201\u001b[0m             \u001b[0mlogger\u001b[0m\u001b[0;34m.\u001b[0m\u001b[0mdebug\u001b[0m\u001b[0;34m(\u001b[0m\u001b[0;34m\"Answer received: {0}\"\u001b[0m\u001b[0;34m.\u001b[0m\u001b[0mformat\u001b[0m\u001b[0;34m(\u001b[0m\u001b[0manswer\u001b[0m\u001b[0;34m)\u001b[0m\u001b[0;34m)\u001b[0m\u001b[0;34m\u001b[0m\u001b[0;34m\u001b[0m\u001b[0m\n\u001b[1;32m   1202\u001b[0m             \u001b[0;32mif\u001b[0m \u001b[0manswer\u001b[0m\u001b[0;34m.\u001b[0m\u001b[0mstartswith\u001b[0m\u001b[0;34m(\u001b[0m\u001b[0mproto\u001b[0m\u001b[0;34m.\u001b[0m\u001b[0mRETURN_MESSAGE\u001b[0m\u001b[0;34m)\u001b[0m\u001b[0;34m:\u001b[0m\u001b[0;34m\u001b[0m\u001b[0;34m\u001b[0m\u001b[0m\n",
      "\u001b[0;32m/usr/lib/python3.8/socket.py\u001b[0m in \u001b[0;36mreadinto\u001b[0;34m(self, b)\u001b[0m\n\u001b[1;32m    667\u001b[0m         \u001b[0;32mwhile\u001b[0m \u001b[0;32mTrue\u001b[0m\u001b[0;34m:\u001b[0m\u001b[0;34m\u001b[0m\u001b[0;34m\u001b[0m\u001b[0m\n\u001b[1;32m    668\u001b[0m             \u001b[0;32mtry\u001b[0m\u001b[0;34m:\u001b[0m\u001b[0;34m\u001b[0m\u001b[0;34m\u001b[0m\u001b[0m\n\u001b[0;32m--> 669\u001b[0;31m                 \u001b[0;32mreturn\u001b[0m \u001b[0mself\u001b[0m\u001b[0;34m.\u001b[0m\u001b[0m_sock\u001b[0m\u001b[0;34m.\u001b[0m\u001b[0mrecv_into\u001b[0m\u001b[0;34m(\u001b[0m\u001b[0mb\u001b[0m\u001b[0;34m)\u001b[0m\u001b[0;34m\u001b[0m\u001b[0;34m\u001b[0m\u001b[0m\n\u001b[0m\u001b[1;32m    670\u001b[0m             \u001b[0;32mexcept\u001b[0m \u001b[0mtimeout\u001b[0m\u001b[0;34m:\u001b[0m\u001b[0;34m\u001b[0m\u001b[0;34m\u001b[0m\u001b[0m\n\u001b[1;32m    671\u001b[0m                 \u001b[0mself\u001b[0m\u001b[0;34m.\u001b[0m\u001b[0m_timeout_occurred\u001b[0m \u001b[0;34m=\u001b[0m \u001b[0;32mTrue\u001b[0m\u001b[0;34m\u001b[0m\u001b[0;34m\u001b[0m\u001b[0m\n",
      "\u001b[0;31mKeyboardInterrupt\u001b[0m: "
     ]
    }
   ],
   "source": [
    "query = writer.start()\n",
    "query.awaitTermination()"
   ]
  },
  {
   "cell_type": "code",
   "execution_count": null,
   "metadata": {},
   "outputs": [],
   "source": []
  }
 ],
 "metadata": {
  "kernelspec": {
   "display_name": "venv",
   "language": "python",
   "name": "venv"
  },
  "language_info": {
   "codemirror_mode": {
    "name": "ipython",
    "version": 3
   },
   "file_extension": ".py",
   "mimetype": "text/x-python",
   "name": "python",
   "nbconvert_exporter": "python",
   "pygments_lexer": "ipython3",
   "version": "3.8.5"
  }
 },
 "nbformat": 4,
 "nbformat_minor": 4
}
