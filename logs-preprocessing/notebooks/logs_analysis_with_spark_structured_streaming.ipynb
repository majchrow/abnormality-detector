{
 "cells": [
  {
   "cell_type": "code",
   "execution_count": 1,
   "metadata": {},
   "outputs": [],
   "source": [
    "from pyspark import SparkContext, SparkConf, SQLContext, Row\n",
    "from pyspark.streaming import StreamingContext\n",
    "from pyspark.sql import SparkSession\n",
    "from pyspark.sql.functions import *\n",
    "from pyspark.sql.types import *\n",
    "import json\n",
    "from os import listdir\n",
    "from os.path import isfile, join\n",
    "import platform\n",
    "import pandas as pd\n",
    "from itertools import chain\n",
    "import pyspark.sql.functions as func\n",
    "from datetime import datetime\n",
    "import numpy as np\n",
    "import os\n",
    "from pyspark.sql.types import LongType, DoubleType, StringType, TimestampType, BooleanType"
   ]
  },
  {
   "cell_type": "code",
   "execution_count": 2,
   "metadata": {},
   "outputs": [],
   "source": [
    "os.environ[\"PYSPARK_SUBMIT_ARGS\"] = \"--packages com.datastax.spark:spark-cassandra-connector_2.12:3.0.0,org.apache.spark:spark-sql-kafka-0-10_2.12:3.0.1 --conf spark.cassandra.connection.host=127.0.0.1 --conf spark.cassandra.connection.port=9042 --conf spark.cassandra.auth.username=cassandra --conf spark.cassandra.auth.password=cassandra pyspark-shell\""
   ]
  },
  {
   "cell_type": "code",
   "execution_count": 3,
   "metadata": {},
   "outputs": [],
   "source": [
    "KAFKA_BOOTSTRAP_SERVER = \"localhost:9092\""
   ]
  },
  {
   "cell_type": "code",
   "execution_count": 4,
   "metadata": {},
   "outputs": [],
   "source": [
    "spark = SparkSession \\\n",
    "        .builder \\\n",
    "        .appName(\"LogsAnalysisWithSpark\") \\\n",
    "        .master(\"local[*]\") \\\n",
    "        .getOrCreate()"
   ]
  },
  {
   "cell_type": "code",
   "execution_count": 5,
   "metadata": {},
   "outputs": [],
   "source": [
    "spark.conf.set(\"spark.sql.legacy.timeParserPolicy\",\"LEGACY\")"
   ]
  },
  {
   "cell_type": "code",
   "execution_count": 6,
   "metadata": {},
   "outputs": [],
   "source": [
    "sample = spark.read.json(\"../../preprocessed/callInfo_data.json\")\n",
    "schema = sample.schema"
   ]
  },
  {
   "cell_type": "code",
   "execution_count": 7,
   "metadata": {
    "tags": []
   },
   "outputs": [
    {
     "name": "stdout",
     "output_type": "stream",
     "text": [
      "root\n",
      " |-- call: string (nullable = true)\n",
      " |-- date: string (nullable = true)\n",
      " |-- message: struct (nullable = true)\n",
      " |    |-- callInfo: struct (nullable = true)\n",
      " |    |    |-- callCorrelator: string (nullable = true)\n",
      " |    |    |-- callType: string (nullable = true)\n",
      " |    |    |-- distributedInstances: double (nullable = true)\n",
      " |    |    |-- endpointRecording: string (nullable = true)\n",
      " |    |    |-- joinAudioMuteOverride: double (nullable = true)\n",
      " |    |    |-- lockState: string (nullable = true)\n",
      " |    |    |-- name: string (nullable = true)\n",
      " |    |    |-- participants: double (nullable = true)\n",
      " |    |    |-- recording: string (nullable = true)\n",
      " |    |    |-- streaming: string (nullable = true)\n",
      " |    |-- messageId: long (nullable = true)\n",
      " |    |-- subscriptionIndex: long (nullable = true)\n",
      " |    |-- type: string (nullable = true)\n",
      " |-- type: string (nullable = true)\n",
      "\n"
     ]
    }
   ],
   "source": [
    "sample.printSchema()"
   ]
  },
  {
   "cell_type": "code",
   "execution_count": 8,
   "metadata": {},
   "outputs": [],
   "source": [
    "def get_stream_for_topics(topics, spark, kafka_server):\n",
    "    return spark.readStream\\\n",
    "    .format(\"kafka\")\\\n",
    "    .option(\"kafka.bootstrap.servers\", kafka_server)\\\n",
    "    .option(\"subscribe\", \",\".join(topics))\\\n",
    "    .load()"
   ]
  },
  {
   "cell_type": "code",
   "execution_count": 9,
   "metadata": {
    "scrolled": false
   },
   "outputs": [],
   "source": [
    "streamingInputDF = get_stream_for_topics([\"callInfoUpdate11\"], spark, KAFKA_BOOTSTRAP_SERVER)"
   ]
  },
  {
   "cell_type": "code",
   "execution_count": 10,
   "metadata": {},
   "outputs": [],
   "source": [
    "valuesDF = streamingInputDF.selectExpr(\"CAST(value AS STRING)\")"
   ]
  },
  {
   "cell_type": "code",
   "execution_count": 11,
   "metadata": {},
   "outputs": [],
   "source": [
    "eventsDF = valuesDF.withColumn(\"event\", from_json(valuesDF.value, schema)).select(\"event\")"
   ]
  },
  {
   "cell_type": "code",
   "execution_count": 12,
   "metadata": {
    "tags": []
   },
   "outputs": [
    {
     "name": "stdout",
     "output_type": "stream",
     "text": [
      "root\n",
      " |-- event: struct (nullable = true)\n",
      " |    |-- call: string (nullable = true)\n",
      " |    |-- date: string (nullable = true)\n",
      " |    |-- message: struct (nullable = true)\n",
      " |    |    |-- callInfo: struct (nullable = true)\n",
      " |    |    |    |-- callCorrelator: string (nullable = true)\n",
      " |    |    |    |-- callType: string (nullable = true)\n",
      " |    |    |    |-- distributedInstances: double (nullable = true)\n",
      " |    |    |    |-- endpointRecording: string (nullable = true)\n",
      " |    |    |    |-- joinAudioMuteOverride: double (nullable = true)\n",
      " |    |    |    |-- lockState: string (nullable = true)\n",
      " |    |    |    |-- name: string (nullable = true)\n",
      " |    |    |    |-- participants: double (nullable = true)\n",
      " |    |    |    |-- recording: string (nullable = true)\n",
      " |    |    |    |-- streaming: string (nullable = true)\n",
      " |    |    |-- messageId: long (nullable = true)\n",
      " |    |    |-- subscriptionIndex: long (nullable = true)\n",
      " |    |    |-- type: string (nullable = true)\n",
      " |    |-- type: string (nullable = true)\n",
      "\n"
     ]
    }
   ],
   "source": [
    "eventsDF.printSchema()"
   ]
  },
  {
   "cell_type": "code",
   "execution_count": 13,
   "metadata": {},
   "outputs": [],
   "source": [
    "messagesDF = eventsDF.withColumn(\"date\", eventsDF.event.date)\\\n",
    "                     .withColumn(\"message\", eventsDF.event.message)\\\n",
    "                     .withColumn(\"call\", eventsDF.event.call)\\\n",
    "                     .select(\"message\", \"date\", \"call\")"
   ]
  },
  {
   "cell_type": "code",
   "execution_count": 14,
   "metadata": {
    "tags": []
   },
   "outputs": [
    {
     "name": "stdout",
     "output_type": "stream",
     "text": [
      "root\n",
      " |-- message: struct (nullable = true)\n",
      " |    |-- callInfo: struct (nullable = true)\n",
      " |    |    |-- callCorrelator: string (nullable = true)\n",
      " |    |    |-- callType: string (nullable = true)\n",
      " |    |    |-- distributedInstances: double (nullable = true)\n",
      " |    |    |-- endpointRecording: string (nullable = true)\n",
      " |    |    |-- joinAudioMuteOverride: double (nullable = true)\n",
      " |    |    |-- lockState: string (nullable = true)\n",
      " |    |    |-- name: string (nullable = true)\n",
      " |    |    |-- participants: double (nullable = true)\n",
      " |    |    |-- recording: string (nullable = true)\n",
      " |    |    |-- streaming: string (nullable = true)\n",
      " |    |-- messageId: long (nullable = true)\n",
      " |    |-- subscriptionIndex: long (nullable = true)\n",
      " |    |-- type: string (nullable = true)\n",
      " |-- date: string (nullable = true)\n",
      " |-- call: string (nullable = true)\n",
      "\n"
     ]
    }
   ],
   "source": [
    "messagesDF.printSchema()"
   ]
  },
  {
   "cell_type": "code",
   "execution_count": 15,
   "metadata": {},
   "outputs": [],
   "source": [
    "preprocessedDF = messagesDF.select(\"date\", \"call\", messagesDF.message.callInfo.alias(\"info\"))"
   ]
  },
  {
   "cell_type": "code",
   "execution_count": 16,
   "metadata": {
    "scrolled": true,
    "tags": []
   },
   "outputs": [
    {
     "name": "stdout",
     "output_type": "stream",
     "text": [
      "root\n",
      " |-- date: string (nullable = true)\n",
      " |-- call: string (nullable = true)\n",
      " |-- info: struct (nullable = true)\n",
      " |    |-- callCorrelator: string (nullable = true)\n",
      " |    |-- callType: string (nullable = true)\n",
      " |    |-- distributedInstances: double (nullable = true)\n",
      " |    |-- endpointRecording: string (nullable = true)\n",
      " |    |-- joinAudioMuteOverride: double (nullable = true)\n",
      " |    |-- lockState: string (nullable = true)\n",
      " |    |-- name: string (nullable = true)\n",
      " |    |-- participants: double (nullable = true)\n",
      " |    |-- recording: string (nullable = true)\n",
      " |    |-- streaming: string (nullable = true)\n",
      "\n"
     ]
    }
   ],
   "source": [
    "preprocessedDF.printSchema()"
   ]
  },
  {
   "cell_type": "code",
   "execution_count": 17,
   "metadata": {},
   "outputs": [],
   "source": [
    "info = preprocessedDF.info"
   ]
  },
  {
   "cell_type": "code",
   "execution_count": 18,
   "metadata": {},
   "outputs": [],
   "source": [
    "finalDF = preprocessedDF.select(preprocessedDF.call,\n",
    "                          info.callType.alias(\"callType\"),\n",
    "                      info.distributedInstances.alias(\"distributedInstances\"),\n",
    "                      info.endpointRecording.alias(\"endpointRecording\"),\n",
    "                      info.lockState.alias(\"lockState\"),\n",
    "                      info.participants.alias(\"participants\"),\n",
    "                      info.recording.alias(\"recording\"),\n",
    "                      info.streaming.alias(\"streaming\"),\n",
    "                      info.joinAudioMuteOverride.alias(\"joinAudioMute\"),\n",
    "                      preprocessedDF.date\n",
    "                     )"
   ]
  },
  {
   "cell_type": "code",
   "execution_count": 19,
   "metadata": {},
   "outputs": [],
   "source": [
    "# Czas rzeczywisty -> current_time\n",
    "# Czas od rozpoczęcia spotkania -> time_diff\n",
    "# Spotkanie nagrywane -> recording\n",
    "# Spotkanie streamowane -> streaming\n",
    "# Spotkanie zablokowane -> locked\n",
    "# Spotkanie adHoc -> adhoc\n",
    "# Spotkanie\n",
    "# Aktualna liczba uczestników -> current_participants\n",
    "# Średnia liczba uczestników w danym spotkaniu -> mean_participants\n",
    "# Maksymalna liczba uczestników danego spotkania -> max_participants"
   ]
  },
  {
   "cell_type": "code",
   "execution_count": 20,
   "metadata": {},
   "outputs": [],
   "source": [
    "groupedDF = finalDF.groupBy(\"call\")\\\n",
    "                       .agg(func.sort_array(func.collect_list(finalDF.date)).alias(\"dateArray\"), \n",
    "                        func.collect_list(finalDF.recording).alias(\"recordingArray\"),\n",
    "                        func.collect_list(finalDF.streaming).alias(\"streamingArray\"),\n",
    "                        func.collect_list(finalDF.lockState).alias(\"lockStateArray\"),\n",
    "                        reverse(func.collect_list(finalDF.callType)).getItem(0).alias(\"callType\"),\n",
    "                        reverse(func.collect_list(finalDF.participants)).getItem(0).cast(LongType()).alias(\"current_participants\"),\n",
    "                        func.max(finalDF.participants).cast(LongType()).alias(\"max_participants\"),\n",
    "                        func.mean(finalDF.participants).alias(\"mean_participants\"))"
   ]
  },
  {
   "cell_type": "code",
   "execution_count": 21,
   "metadata": {
    "tags": []
   },
   "outputs": [
    {
     "name": "stdout",
     "output_type": "stream",
     "text": [
      "root\n",
      " |-- call: string (nullable = true)\n",
      " |-- dateArray: array (nullable = true)\n",
      " |    |-- element: string (containsNull = false)\n",
      " |-- recordingArray: array (nullable = true)\n",
      " |    |-- element: string (containsNull = false)\n",
      " |-- streamingArray: array (nullable = true)\n",
      " |    |-- element: string (containsNull = false)\n",
      " |-- lockStateArray: array (nullable = true)\n",
      " |    |-- element: string (containsNull = false)\n",
      " |-- callType: string (nullable = true)\n",
      " |-- current_participants: long (nullable = true)\n",
      " |-- max_participants: long (nullable = true)\n",
      " |-- mean_participants: double (nullable = true)\n",
      "\n"
     ]
    }
   ],
   "source": [
    "groupedDF.printSchema()"
   ]
  },
  {
   "cell_type": "code",
   "execution_count": 22,
   "metadata": {},
   "outputs": [],
   "source": [
    "def find_diff(dates):\n",
    "    pattern = '%Y-%m-%dT%H:%M:%S.%f'\n",
    "    start_date = datetime.strptime(dates[0], pattern)\n",
    "    end_date = datetime.strptime(dates[-1], pattern)\n",
    "    return int((end_date - start_date).total_seconds())\n",
    "    \n",
    "find_diff_udf = udf(lambda x: find_diff(x), LongType())"
   ]
  },
  {
   "cell_type": "code",
   "execution_count": 23,
   "metadata": {},
   "outputs": [],
   "source": [
    "def get_last_date(dates):\n",
    "    pattern = '%Y-%m-%dT%H:%M:%S.%f'\n",
    "    date = datetime.strptime(dates[-1], pattern)\n",
    "    return date\n",
    "\n",
    "get_last_date_udf = udf(lambda x: get_last_date(x), TimestampType())"
   ]
  },
  {
   "cell_type": "code",
   "execution_count": 24,
   "metadata": {},
   "outputs": [],
   "source": [
    "def get_last_nonempty_value(values):\n",
    "    nonempty_values = [i for i in values if i]\n",
    "    return nonempty_values[-1] if nonempty_values else None"
   ]
  },
  {
   "cell_type": "code",
   "execution_count": 25,
   "metadata": {},
   "outputs": [],
   "source": [
    "def get_if_active(values):\n",
    "    state = get_last_nonempty_value(values)\n",
    "    return state == \"active\"    \n",
    "    \n",
    "get_if_active_udf = udf(lambda x: get_if_active(x), BooleanType())"
   ]
  },
  {
   "cell_type": "code",
   "execution_count": 26,
   "metadata": {},
   "outputs": [],
   "source": [
    "def get_if_locked(values):\n",
    "    state = get_last_nonempty_value(values)\n",
    "    return state == \"locked\"\n",
    "\n",
    "get_if_locked_udf = udf(lambda x: get_if_locked(x), BooleanType())"
   ]
  },
  {
   "cell_type": "code",
   "execution_count": 27,
   "metadata": {},
   "outputs": [],
   "source": [
    "def get_if_type(current_type, expected_type):\n",
    "    return current_type == expected_type\n",
    "\n",
    "get_if_adhoc_udf = udf(lambda x: get_if_type(x, \"adHoc\"), BooleanType())\n",
    "get_if_lync_udf = udf(lambda x: get_if_type(x, \"lyncConferencing\"), BooleanType())\n",
    "get_if_forwarding_udf = udf(lambda x: get_if_type(x, \"forwarding\"), BooleanType())\n",
    "get_if_cospace_udf = udf(lambda x: get_if_type(x, \"coSpace\"), BooleanType())"
   ]
  },
  {
   "cell_type": "code",
   "execution_count": 28,
   "metadata": {},
   "outputs": [],
   "source": [
    "concat_udf = udf(lambda cols: \"\".join([x if x is not None else \"*\" for x in cols]), StringType())"
   ]
  },
  {
   "cell_type": "code",
   "execution_count": 29,
   "metadata": {},
   "outputs": [],
   "source": [
    "finalDF = groupedDF\\\n",
    "                .withColumn(\"datetime\", get_last_date_udf(groupedDF.dateArray))\\\n",
    "                    .withColumn(\"time_diff\", find_diff_udf(groupedDF.dateArray))\\\n",
    "                    .withColumn(\"call_id\", groupedDF.call)\\\n",
    "                    .withColumn(\"recording\", get_if_active_udf(groupedDF.recordingArray))\\\n",
    "                    .withColumn(\"streaming\", get_if_active_udf(groupedDF.streamingArray))\\\n",
    "                    .withColumn(\"locked\", get_if_locked_udf(groupedDF.lockStateArray))\\\n",
    "                    .withColumn(\"cospace\", get_if_cospace_udf(groupedDF.callType))\\\n",
    "                    .withColumn(\"adhoc\", get_if_adhoc_udf(groupedDF.callType))\\\n",
    "                    .withColumn(\"lync_conferencing\", get_if_lync_udf(groupedDF.callType))\\\n",
    "                    .withColumn(\"forwarding\", get_if_forwarding_udf(groupedDF.callType))\\\n",
    "                    .select(\"datetime\", \"time_diff\", \"call_id\", \"recording\", \"streaming\", \n",
    "                            \"locked\", \"cospace\", \"adhoc\", \"lync_conferencing\", \"forwarding\",\n",
    "                            \"current_participants\", \"mean_participants\", \"max_participants\")"
   ]
  },
  {
   "cell_type": "code",
   "execution_count": 30,
   "metadata": {
    "scrolled": true,
    "tags": []
   },
   "outputs": [
    {
     "name": "stdout",
     "output_type": "stream",
     "text": [
      "root\n",
      " |-- datetime: timestamp (nullable = true)\n",
      " |-- time_diff: long (nullable = true)\n",
      " |-- call_id: string (nullable = true)\n",
      " |-- recording: boolean (nullable = true)\n",
      " |-- streaming: boolean (nullable = true)\n",
      " |-- locked: boolean (nullable = true)\n",
      " |-- cospace: boolean (nullable = true)\n",
      " |-- adhoc: boolean (nullable = true)\n",
      " |-- lync_conferencing: boolean (nullable = true)\n",
      " |-- forwarding: boolean (nullable = true)\n",
      " |-- current_participants: long (nullable = true)\n",
      " |-- mean_participants: double (nullable = true)\n",
      " |-- max_participants: long (nullable = true)\n",
      "\n"
     ]
    }
   ],
   "source": [
    "finalDF.printSchema()"
   ]
  },
  {
   "cell_type": "code",
   "execution_count": 31,
   "metadata": {},
   "outputs": [],
   "source": [
    "testDF = finalDF.withColumn(\"id\", concat_udf(func.array(finalDF.call_id, finalDF.datetime)))\\\n",
    "    .withColumn(\"hour\", hour(finalDF.datetime))\\\n",
    "    .withColumn(\"week_day_number\", date_format(finalDF.datetime, 'u').cast(IntegerType()))"
   ]
  },
  {
   "cell_type": "code",
   "execution_count": 32,
   "metadata": {
    "tags": []
   },
   "outputs": [
    {
     "name": "stdout",
     "output_type": "stream",
     "text": [
      "root\n",
      " |-- datetime: timestamp (nullable = true)\n",
      " |-- time_diff: long (nullable = true)\n",
      " |-- call_id: string (nullable = true)\n",
      " |-- recording: boolean (nullable = true)\n",
      " |-- streaming: boolean (nullable = true)\n",
      " |-- locked: boolean (nullable = true)\n",
      " |-- cospace: boolean (nullable = true)\n",
      " |-- adhoc: boolean (nullable = true)\n",
      " |-- lync_conferencing: boolean (nullable = true)\n",
      " |-- forwarding: boolean (nullable = true)\n",
      " |-- current_participants: long (nullable = true)\n",
      " |-- mean_participants: double (nullable = true)\n",
      " |-- max_participants: long (nullable = true)\n",
      " |-- id: string (nullable = true)\n",
      " |-- hour: integer (nullable = true)\n",
      " |-- week_day_number: integer (nullable = true)\n",
      "\n"
     ]
    }
   ],
   "source": [
    "testDF.printSchema()"
   ]
  },
  {
   "cell_type": "code",
   "execution_count": 33,
   "metadata": {},
   "outputs": [],
   "source": [
    "def writeToCassandra(writeDF, epochId):\n",
    "     writeDF.write \\\n",
    "        .format(\"org.apache.spark.sql.cassandra\") \\\n",
    "        .options(table=\"test\", keyspace=\"engineering\")\\\n",
    "        .mode(\"append\") \\\n",
    "        .save()"
   ]
  },
  {
   "cell_type": "code",
   "execution_count": 34,
   "metadata": {},
   "outputs": [],
   "source": [
    "writer = testDF\\\n",
    "        .writeStream\\\n",
    "        .outputMode(\"complete\")\\\n",
    "        .foreachBatch(writeToCassandra)"
   ]
  },
  {
   "cell_type": "code",
   "execution_count": 35,
   "metadata": {},
   "outputs": [
    {
     "ename": "KeyboardInterrupt",
     "evalue": "",
     "output_type": "error",
     "traceback": [
      "\u001b[0;31m---------------------------------------------------------------------------\u001b[0m",
      "\u001b[0;31mKeyboardInterrupt\u001b[0m                         Traceback (most recent call last)",
      "\u001b[0;32m<ipython-input-35-0e1b705525be>\u001b[0m in \u001b[0;36m<module>\u001b[0;34m\u001b[0m\n\u001b[1;32m      1\u001b[0m \u001b[0mquery\u001b[0m \u001b[0;34m=\u001b[0m \u001b[0mwriter\u001b[0m\u001b[0;34m.\u001b[0m\u001b[0mstart\u001b[0m\u001b[0;34m(\u001b[0m\u001b[0;34m)\u001b[0m\u001b[0;34m\u001b[0m\u001b[0;34m\u001b[0m\u001b[0m\n\u001b[0;32m----> 2\u001b[0;31m \u001b[0mquery\u001b[0m\u001b[0;34m.\u001b[0m\u001b[0mawaitTermination\u001b[0m\u001b[0;34m(\u001b[0m\u001b[0;34m)\u001b[0m\u001b[0;34m\u001b[0m\u001b[0;34m\u001b[0m\u001b[0m\n\u001b[0m",
      "\u001b[0;32m~/.local/lib/python3.8/site-packages/pyspark/sql/streaming.py\u001b[0m in \u001b[0;36mawaitTermination\u001b[0;34m(self, timeout)\u001b[0m\n\u001b[1;32m    101\u001b[0m             \u001b[0;32mreturn\u001b[0m \u001b[0mself\u001b[0m\u001b[0;34m.\u001b[0m\u001b[0m_jsq\u001b[0m\u001b[0;34m.\u001b[0m\u001b[0mawaitTermination\u001b[0m\u001b[0;34m(\u001b[0m\u001b[0mint\u001b[0m\u001b[0;34m(\u001b[0m\u001b[0mtimeout\u001b[0m \u001b[0;34m*\u001b[0m \u001b[0;36m1000\u001b[0m\u001b[0;34m)\u001b[0m\u001b[0;34m)\u001b[0m\u001b[0;34m\u001b[0m\u001b[0;34m\u001b[0m\u001b[0m\n\u001b[1;32m    102\u001b[0m         \u001b[0;32melse\u001b[0m\u001b[0;34m:\u001b[0m\u001b[0;34m\u001b[0m\u001b[0;34m\u001b[0m\u001b[0m\n\u001b[0;32m--> 103\u001b[0;31m             \u001b[0;32mreturn\u001b[0m \u001b[0mself\u001b[0m\u001b[0;34m.\u001b[0m\u001b[0m_jsq\u001b[0m\u001b[0;34m.\u001b[0m\u001b[0mawaitTermination\u001b[0m\u001b[0;34m(\u001b[0m\u001b[0;34m)\u001b[0m\u001b[0;34m\u001b[0m\u001b[0;34m\u001b[0m\u001b[0m\n\u001b[0m\u001b[1;32m    104\u001b[0m \u001b[0;34m\u001b[0m\u001b[0m\n\u001b[1;32m    105\u001b[0m     \u001b[0;34m@\u001b[0m\u001b[0mproperty\u001b[0m\u001b[0;34m\u001b[0m\u001b[0;34m\u001b[0m\u001b[0m\n",
      "\u001b[0;32m~/.local/lib/python3.8/site-packages/py4j/java_gateway.py\u001b[0m in \u001b[0;36m__call__\u001b[0;34m(self, *args)\u001b[0m\n\u001b[1;32m   1301\u001b[0m             \u001b[0mproto\u001b[0m\u001b[0;34m.\u001b[0m\u001b[0mEND_COMMAND_PART\u001b[0m\u001b[0;34m\u001b[0m\u001b[0;34m\u001b[0m\u001b[0m\n\u001b[1;32m   1302\u001b[0m \u001b[0;34m\u001b[0m\u001b[0m\n\u001b[0;32m-> 1303\u001b[0;31m         \u001b[0manswer\u001b[0m \u001b[0;34m=\u001b[0m \u001b[0mself\u001b[0m\u001b[0;34m.\u001b[0m\u001b[0mgateway_client\u001b[0m\u001b[0;34m.\u001b[0m\u001b[0msend_command\u001b[0m\u001b[0;34m(\u001b[0m\u001b[0mcommand\u001b[0m\u001b[0;34m)\u001b[0m\u001b[0;34m\u001b[0m\u001b[0;34m\u001b[0m\u001b[0m\n\u001b[0m\u001b[1;32m   1304\u001b[0m         return_value = get_return_value(\n\u001b[1;32m   1305\u001b[0m             answer, self.gateway_client, self.target_id, self.name)\n",
      "\u001b[0;32m~/.local/lib/python3.8/site-packages/py4j/java_gateway.py\u001b[0m in \u001b[0;36msend_command\u001b[0;34m(self, command, retry, binary)\u001b[0m\n\u001b[1;32m   1031\u001b[0m         \u001b[0mconnection\u001b[0m \u001b[0;34m=\u001b[0m \u001b[0mself\u001b[0m\u001b[0;34m.\u001b[0m\u001b[0m_get_connection\u001b[0m\u001b[0;34m(\u001b[0m\u001b[0;34m)\u001b[0m\u001b[0;34m\u001b[0m\u001b[0;34m\u001b[0m\u001b[0m\n\u001b[1;32m   1032\u001b[0m         \u001b[0;32mtry\u001b[0m\u001b[0;34m:\u001b[0m\u001b[0;34m\u001b[0m\u001b[0;34m\u001b[0m\u001b[0m\n\u001b[0;32m-> 1033\u001b[0;31m             \u001b[0mresponse\u001b[0m \u001b[0;34m=\u001b[0m \u001b[0mconnection\u001b[0m\u001b[0;34m.\u001b[0m\u001b[0msend_command\u001b[0m\u001b[0;34m(\u001b[0m\u001b[0mcommand\u001b[0m\u001b[0;34m)\u001b[0m\u001b[0;34m\u001b[0m\u001b[0;34m\u001b[0m\u001b[0m\n\u001b[0m\u001b[1;32m   1034\u001b[0m             \u001b[0;32mif\u001b[0m \u001b[0mbinary\u001b[0m\u001b[0;34m:\u001b[0m\u001b[0;34m\u001b[0m\u001b[0;34m\u001b[0m\u001b[0m\n\u001b[1;32m   1035\u001b[0m                 \u001b[0;32mreturn\u001b[0m \u001b[0mresponse\u001b[0m\u001b[0;34m,\u001b[0m \u001b[0mself\u001b[0m\u001b[0;34m.\u001b[0m\u001b[0m_create_connection_guard\u001b[0m\u001b[0;34m(\u001b[0m\u001b[0mconnection\u001b[0m\u001b[0;34m)\u001b[0m\u001b[0;34m\u001b[0m\u001b[0;34m\u001b[0m\u001b[0m\n",
      "\u001b[0;32m~/.local/lib/python3.8/site-packages/py4j/java_gateway.py\u001b[0m in \u001b[0;36msend_command\u001b[0;34m(self, command)\u001b[0m\n\u001b[1;32m   1198\u001b[0m \u001b[0;34m\u001b[0m\u001b[0m\n\u001b[1;32m   1199\u001b[0m         \u001b[0;32mtry\u001b[0m\u001b[0;34m:\u001b[0m\u001b[0;34m\u001b[0m\u001b[0;34m\u001b[0m\u001b[0m\n\u001b[0;32m-> 1200\u001b[0;31m             \u001b[0manswer\u001b[0m \u001b[0;34m=\u001b[0m \u001b[0msmart_decode\u001b[0m\u001b[0;34m(\u001b[0m\u001b[0mself\u001b[0m\u001b[0;34m.\u001b[0m\u001b[0mstream\u001b[0m\u001b[0;34m.\u001b[0m\u001b[0mreadline\u001b[0m\u001b[0;34m(\u001b[0m\u001b[0;34m)\u001b[0m\u001b[0;34m[\u001b[0m\u001b[0;34m:\u001b[0m\u001b[0;34m-\u001b[0m\u001b[0;36m1\u001b[0m\u001b[0;34m]\u001b[0m\u001b[0;34m)\u001b[0m\u001b[0;34m\u001b[0m\u001b[0;34m\u001b[0m\u001b[0m\n\u001b[0m\u001b[1;32m   1201\u001b[0m             \u001b[0mlogger\u001b[0m\u001b[0;34m.\u001b[0m\u001b[0mdebug\u001b[0m\u001b[0;34m(\u001b[0m\u001b[0;34m\"Answer received: {0}\"\u001b[0m\u001b[0;34m.\u001b[0m\u001b[0mformat\u001b[0m\u001b[0;34m(\u001b[0m\u001b[0manswer\u001b[0m\u001b[0;34m)\u001b[0m\u001b[0;34m)\u001b[0m\u001b[0;34m\u001b[0m\u001b[0;34m\u001b[0m\u001b[0m\n\u001b[1;32m   1202\u001b[0m             \u001b[0;32mif\u001b[0m \u001b[0manswer\u001b[0m\u001b[0;34m.\u001b[0m\u001b[0mstartswith\u001b[0m\u001b[0;34m(\u001b[0m\u001b[0mproto\u001b[0m\u001b[0;34m.\u001b[0m\u001b[0mRETURN_MESSAGE\u001b[0m\u001b[0;34m)\u001b[0m\u001b[0;34m:\u001b[0m\u001b[0;34m\u001b[0m\u001b[0;34m\u001b[0m\u001b[0m\n",
      "\u001b[0;32m/usr/lib/python3.8/socket.py\u001b[0m in \u001b[0;36mreadinto\u001b[0;34m(self, b)\u001b[0m\n\u001b[1;32m    667\u001b[0m         \u001b[0;32mwhile\u001b[0m \u001b[0;32mTrue\u001b[0m\u001b[0;34m:\u001b[0m\u001b[0;34m\u001b[0m\u001b[0;34m\u001b[0m\u001b[0m\n\u001b[1;32m    668\u001b[0m             \u001b[0;32mtry\u001b[0m\u001b[0;34m:\u001b[0m\u001b[0;34m\u001b[0m\u001b[0;34m\u001b[0m\u001b[0m\n\u001b[0;32m--> 669\u001b[0;31m                 \u001b[0;32mreturn\u001b[0m \u001b[0mself\u001b[0m\u001b[0;34m.\u001b[0m\u001b[0m_sock\u001b[0m\u001b[0;34m.\u001b[0m\u001b[0mrecv_into\u001b[0m\u001b[0;34m(\u001b[0m\u001b[0mb\u001b[0m\u001b[0;34m)\u001b[0m\u001b[0;34m\u001b[0m\u001b[0;34m\u001b[0m\u001b[0m\n\u001b[0m\u001b[1;32m    670\u001b[0m             \u001b[0;32mexcept\u001b[0m \u001b[0mtimeout\u001b[0m\u001b[0;34m:\u001b[0m\u001b[0;34m\u001b[0m\u001b[0;34m\u001b[0m\u001b[0m\n\u001b[1;32m    671\u001b[0m                 \u001b[0mself\u001b[0m\u001b[0;34m.\u001b[0m\u001b[0m_timeout_occurred\u001b[0m \u001b[0;34m=\u001b[0m \u001b[0;32mTrue\u001b[0m\u001b[0;34m\u001b[0m\u001b[0;34m\u001b[0m\u001b[0m\n",
      "\u001b[0;31mKeyboardInterrupt\u001b[0m: "
     ]
    }
   ],
   "source": [
    "query = writer.start()\n",
    "query.awaitTermination()"
   ]
  },
  {
   "cell_type": "code",
   "execution_count": null,
   "metadata": {},
   "outputs": [],
   "source": []
  }
 ],
 "metadata": {
  "kernelspec": {
   "display_name": "venv",
   "language": "python",
   "name": "venv"
  },
  "language_info": {
   "codemirror_mode": {
    "name": "ipython",
    "version": 3
   },
   "file_extension": ".py",
   "mimetype": "text/x-python",
   "name": "python",
   "nbconvert_exporter": "python",
   "pygments_lexer": "ipython3",
   "version": "3.8.5"
  }
 },
 "nbformat": 4,
 "nbformat_minor": 4
}
