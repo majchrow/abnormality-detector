{
 "cells": [
  {
   "cell_type": "code",
   "execution_count": 1,
   "metadata": {
    "ExecuteTime": {
     "start_time": "2020-09-24T12:48:41.707Z"
    }
   },
   "outputs": [],
   "source": [
    "import json\n",
    "from time import sleep\n",
    "from json import dumps\n",
    "from kafka import KafkaProducer\n",
    "\n",
    "call = \"eee585f7-7558-469c-8550-97671c065bdb\"\n",
    "\n",
    "with open(f'../../../preprocessed/all_{call}.json', 'r') as f:\n",
    "    data = json.load(f)\n",
    "\n",
    "producer = KafkaProducer(bootstrap_servers=['localhost:9092'],\n",
    "                         value_serializer=lambda x:\n",
    "                         dumps(x).encode('utf-8'))"
   ]
  },
  {
   "cell_type": "code",
   "execution_count": 2,
   "metadata": {},
   "outputs": [
    {
     "data": {
      "text/plain": [
       "43"
      ]
     },
     "execution_count": 2,
     "metadata": {},
     "output_type": "execute_result"
    }
   ],
   "source": [
    "len(data)"
   ]
  },
  {
   "cell_type": "code",
   "execution_count": 3,
   "metadata": {},
   "outputs": [
    {
     "data": {
      "text/plain": [
       "{'type': 'message',\n",
       " 'message': {'messageId': 1,\n",
       "  'type': 'callInfoUpdate',\n",
       "  'subscriptionIndex': 2,\n",
       "  'callInfo': {'name': '[UJ] Geografia (GZ-A)',\n",
       "   'participants': 0.0,\n",
       "   'streaming': 'inactive',\n",
       "   'recording': 'active',\n",
       "   'endpointRecording': 'inactive',\n",
       "   'joinAudioMuteOverride': nan,\n",
       "   'lockState': 'locked',\n",
       "   'callType': 'coSpace',\n",
       "   'callCorrelator': 'a5f85f49-2571-4042-bc2d-8205ec5ad204',\n",
       "   'distributedInstances': 0.0}},\n",
       " 'date': '2020-06-08T08:11:23.140178',\n",
       " 'call': 'eee585f7-7558-469c-8550-97671c065bdb'}"
      ]
     },
     "execution_count": 3,
     "metadata": {},
     "output_type": "execute_result"
    }
   ],
   "source": [
    "data[0]"
   ]
  },
  {
   "cell_type": "code",
   "execution_count": 4,
   "metadata": {
    "tags": []
   },
   "outputs": [
    {
     "name": "stdout",
     "output_type": "stream",
     "text": [
      "{'type': 'message', 'message': {'messageId': 1, 'type': 'callInfoUpdate', 'subscriptionIndex': 2, 'callInfo': {'name': '[UJ] Geografia (GZ-A)', 'participants': 0.0, 'streaming': 'inactive', 'recording': 'active', 'endpointRecording': 'inactive', 'joinAudioMuteOverride': nan, 'lockState': 'locked', 'callType': 'coSpace', 'callCorrelator': 'a5f85f49-2571-4042-bc2d-8205ec5ad204', 'distributedInstances': 0.0}}, 'date': '2020-06-08T08:11:23.140178', 'call': 'eee585f7-7558-469c-8550-97671c065bdb'}\n",
      "{'type': 'message', 'message': {'messageId': 1, 'type': 'callInfoUpdate', 'subscriptionIndex': 2, 'callInfo': {'name': '[UJ] Geografia (GZ-A)', 'participants': nan, 'streaming': nan, 'recording': nan, 'endpointRecording': nan, 'joinAudioMuteOverride': nan, 'lockState': 'notLocked', 'callType': nan, 'callCorrelator': nan, 'distributedInstances': nan}}, 'date': '2020-06-08T08:11:23.495193', 'call': 'eee585f7-7558-469c-8550-97671c065bdb'}\n",
      "{'type': 'message', 'message': {'messageId': 1, 'type': 'callInfoUpdate', 'subscriptionIndex': 2, 'callInfo': {'name': '[UJ] Geografia (GZ-A)', 'participants': 1.0, 'streaming': nan, 'recording': nan, 'endpointRecording': nan, 'joinAudioMuteOverride': nan, 'lockState': nan, 'callType': nan, 'callCorrelator': nan, 'distributedInstances': nan}}, 'date': '2020-06-08T08:11:24.244248', 'call': 'eee585f7-7558-469c-8550-97671c065bdb'}\n",
      "{'type': 'message', 'message': {'messageId': 1, 'type': 'callInfoUpdate', 'subscriptionIndex': 2, 'callInfo': {'name': '[UJ] Geografia (GZ-A)', 'participants': 2.0, 'streaming': nan, 'recording': nan, 'endpointRecording': nan, 'joinAudioMuteOverride': nan, 'lockState': nan, 'callType': nan, 'callCorrelator': nan, 'distributedInstances': nan}}, 'date': '2020-06-08T08:11:25.082311', 'call': 'eee585f7-7558-469c-8550-97671c065bdb'}\n",
      "{'type': 'message', 'message': {'messageId': 1, 'type': 'callInfoUpdate', 'subscriptionIndex': 2, 'callInfo': {'name': '[UJ] Geografia (GZ-A)', 'participants': 2.0, 'streaming': 'inactive', 'recording': 'active', 'endpointRecording': 'inactive', 'joinAudioMuteOverride': nan, 'lockState': 'notLocked', 'callType': 'coSpace', 'callCorrelator': 'a5f85f49-2571-4042-bc2d-8205ec5ad204', 'distributedInstances': 0.0}}, 'date': '2020-06-08T08:11:35.590104', 'call': 'eee585f7-7558-469c-8550-97671c065bdb'}\n",
      "{'type': 'message', 'message': {'messageId': 1, 'type': 'callInfoUpdate', 'subscriptionIndex': 2, 'callInfo': {'name': '[UJ] Geografia (GZ-A)', 'participants': 2.0, 'streaming': 'inactive', 'recording': 'active', 'endpointRecording': 'inactive', 'joinAudioMuteOverride': nan, 'lockState': 'notLocked', 'callType': 'coSpace', 'callCorrelator': 'a5f85f49-2571-4042-bc2d-8205ec5ad204', 'distributedInstances': 0.0}}, 'date': '2020-06-08T08:12:17.707286', 'call': 'eee585f7-7558-469c-8550-97671c065bdb'}\n",
      "{'type': 'message', 'message': {'messageId': 1, 'type': 'callInfoUpdate', 'subscriptionIndex': 2, 'callInfo': {'name': '[UJ] Geografia (GZ-A)', 'participants': 5.0, 'streaming': nan, 'recording': nan, 'endpointRecording': nan, 'joinAudioMuteOverride': nan, 'lockState': nan, 'callType': nan, 'callCorrelator': nan, 'distributedInstances': nan}}, 'date': '2020-06-08T08:12:20.574509', 'call': 'eee585f7-7558-469c-8550-97671c065bdb'}\n",
      "{'type': 'message', 'message': {'messageId': 1, 'type': 'callInfoUpdate', 'subscriptionIndex': 2, 'callInfo': {'name': '[UJ] Geografia (GZ-A)', 'participants': 4.0, 'streaming': nan, 'recording': nan, 'endpointRecording': nan, 'joinAudioMuteOverride': nan, 'lockState': nan, 'callType': nan, 'callCorrelator': nan, 'distributedInstances': nan}}, 'date': '2020-06-08T08:12:35.875666', 'call': 'eee585f7-7558-469c-8550-97671c065bdb'}\n",
      "{'type': 'message', 'message': {'messageId': 1, 'type': 'callInfoUpdate', 'subscriptionIndex': 2, 'callInfo': {'name': '[UJ] Geografia (GZ-A)', 'participants': 2.0, 'streaming': 'inactive', 'recording': 'active', 'endpointRecording': 'inactive', 'joinAudioMuteOverride': nan, 'lockState': 'notLocked', 'callType': 'coSpace', 'callCorrelator': 'a5f85f49-2571-4042-bc2d-8205ec5ad204', 'distributedInstances': 0.0}}, 'date': '2020-06-08T08:12:59.791472', 'call': 'eee585f7-7558-469c-8550-97671c065bdb'}\n",
      "{'type': 'message', 'message': {'messageId': 1, 'type': 'callInfoUpdate', 'subscriptionIndex': 2, 'callInfo': {'name': '[UJ] Geografia (GZ-A)', 'participants': 2.0, 'streaming': 'inactive', 'recording': 'active', 'endpointRecording': 'inactive', 'joinAudioMuteOverride': nan, 'lockState': 'notLocked', 'callType': 'coSpace', 'callCorrelator': 'a5f85f49-2571-4042-bc2d-8205ec5ad204', 'distributedInstances': 0.0}}, 'date': '2020-06-08T08:13:41.907651', 'call': 'eee585f7-7558-469c-8550-97671c065bdb'}\n",
      "{'type': 'message', 'message': {'messageId': 1, 'type': 'callInfoUpdate', 'subscriptionIndex': 2, 'callInfo': {'name': '[UJ] Geografia (GZ-A)', 'participants': 4.0, 'streaming': nan, 'recording': nan, 'endpointRecording': nan, 'joinAudioMuteOverride': nan, 'lockState': nan, 'callType': nan, 'callCorrelator': nan, 'distributedInstances': nan}}, 'date': '2020-06-08T08:13:50.058270', 'call': 'eee585f7-7558-469c-8550-97671c065bdb'}\n",
      "{'type': 'message', 'message': {'messageId': 1, 'type': 'callInfoUpdate', 'subscriptionIndex': 2, 'callInfo': {'name': '[UJ] Geografia (GZ-A)', 'participants': 2.0, 'streaming': 'inactive', 'recording': 'active', 'endpointRecording': 'inactive', 'joinAudioMuteOverride': nan, 'lockState': 'notLocked', 'callType': 'coSpace', 'callCorrelator': 'a5f85f49-2571-4042-bc2d-8205ec5ad204', 'distributedInstances': 0.0}}, 'date': '2020-06-08T08:14:24.015838', 'call': 'eee585f7-7558-469c-8550-97671c065bdb'}\n",
      "{'type': 'message', 'message': {'messageId': 1, 'type': 'callInfoUpdate', 'subscriptionIndex': 2, 'callInfo': {'name': '[UJ] Geografia (GZ-A)', 'participants': 2.0, 'streaming': 'inactive', 'recording': 'active', 'endpointRecording': 'inactive', 'joinAudioMuteOverride': nan, 'lockState': 'notLocked', 'callType': 'coSpace', 'callCorrelator': 'a5f85f49-2571-4042-bc2d-8205ec5ad204', 'distributedInstances': 0.0}}, 'date': '2020-06-08T08:15:06.127025', 'call': 'eee585f7-7558-469c-8550-97671c065bdb'}\n",
      "{'type': 'message', 'message': {'messageId': 1, 'type': 'callInfoUpdate', 'subscriptionIndex': 2, 'callInfo': {'name': '[UJ] Geografia (GZ-A)', 'participants': 2.0, 'streaming': 'inactive', 'recording': 'active', 'endpointRecording': 'inactive', 'joinAudioMuteOverride': nan, 'lockState': 'notLocked', 'callType': 'coSpace', 'callCorrelator': 'a5f85f49-2571-4042-bc2d-8205ec5ad204', 'distributedInstances': 0.0}}, 'date': '2020-06-08T08:15:48.222202', 'call': 'eee585f7-7558-469c-8550-97671c065bdb'}\n",
      "{'type': 'message', 'message': {'messageId': 1, 'type': 'rosterUpdate', 'subscriptionIndex': 1, 'updates': [{'participant': '0815ba1b-406d-49fb-9ef4-08e62820f8ea', 'updateType': 'add', 'name': 'JG', 'uri': 'jacek.gumulka@free.calls.webex.com', 'state': 'initial', 'direction': 'outgoing', 'movedParticipant': '63616c6c-2e63-6973-636f-737061726b2e', 'movedParticipantCallBridge': '2e776573-6965-7273-6b61-406d6368652e', 'layout': 'onePlusFive', 'endpointRecording': 'inactive'}]}, 'date': '2020-06-08T08:11:23.139169', 'call': 'eee585f7-7558-469c-8550-97671c065bdb'}\n",
      "{'type': 'message', 'message': {'messageId': 1, 'type': 'rosterUpdate', 'subscriptionIndex': 1, 'updates': [{'participant': '0815ba1b-406d-49fb-9ef4-08e62820f8ea', 'updateType': 'update', 'name': 'JG', 'uri': 'jacek.gumulka@free.calls.webex.com', 'state': 'ringing'}]}, 'date': '2020-06-08T08:11:24.244248', 'call': 'eee585f7-7558-469c-8550-97671c065bdb'}\n",
      "{'type': 'message', 'message': {'messageId': 1, 'type': 'rosterUpdate', 'subscriptionIndex': 1, 'updates': [{'participant': 'ca9c80b4-51d1-48d9-b4a8-1e085137f644', 'updateType': 'add', 'name': 'recording', 'uri': 'guest205907270@meet.mche.edu.pl', 'state': 'initial', 'direction': 'outgoing', 'layout': 'onePlusFive', 'endpointRecording': 'inactive'}]}, 'date': '2020-06-08T08:11:24.794284', 'call': 'eee585f7-7558-469c-8550-97671c065bdb'}\n",
      "{'type': 'message', 'message': {'messageId': 1, 'type': 'rosterUpdate', 'subscriptionIndex': 1, 'updates': [{'participant': 'ca9c80b4-51d1-48d9-b4a8-1e085137f644', 'updateType': 'update', 'name': 'recording', 'uri': 'guest205907270@meet.mche.edu.pl', 'state': 'connected'}]}, 'date': '2020-06-08T08:11:25.081310', 'call': 'eee585f7-7558-469c-8550-97671c065bdb'}\n"
     ]
    },
    {
     "name": "stdout",
     "output_type": "stream",
     "text": [
      "{'type': 'message', 'message': {'messageId': 1, 'type': 'rosterUpdate', 'subscriptionIndex': 1, 'updates': [{'participant': '0815ba1b-406d-49fb-9ef4-08e62820f8ea', 'updateType': 'update', 'name': 'JG', 'uri': 'jacek.gumulka@free.calls.webex.com', 'state': 'connected', 'canMove': True}]}, 'date': '2020-06-08T08:11:27.739514', 'call': 'eee585f7-7558-469c-8550-97671c065bdb'}\n",
      "{'type': 'message', 'message': {'messageId': 1, 'type': 'rosterUpdate', 'subscriptionIndex': 1, 'updates': [{'participant': 'ca9c80b4-51d1-48d9-b4a8-1e085137f644', 'updateType': 'add', 'name': 'recording', 'uri': 'guest205907270@meet.mche.edu.pl', 'state': 'connected', 'direction': 'outgoing', 'layout': 'onePlusFive', 'endpointRecording': 'inactive'}]}, 'date': '2020-06-08T08:11:35.589104', 'call': 'eee585f7-7558-469c-8550-97671c065bdb'}\n",
      "{'type': 'message', 'message': {'messageId': 1, 'type': 'rosterUpdate', 'subscriptionIndex': 1, 'updates': [{'participant': '0815ba1b-406d-49fb-9ef4-08e62820f8ea', 'updateType': 'add', 'name': 'JG', 'uri': 'jacek.gumulka@free.calls.webex.com', 'state': 'connected', 'direction': 'outgoing', 'movedParticipant': '63616c6c-2e63-6973-636f-737061726b2e', 'movedParticipantCallBridge': '2e776573-6965-7273-6b61-406d6368652e', 'canMove': True, 'layout': 'onePlusFive', 'endpointRecording': 'inactive'}]}, 'date': '2020-06-08T08:11:35.589104', 'call': 'eee585f7-7558-469c-8550-97671c065bdb'}\n",
      "{'type': 'message', 'message': {'messageId': 1, 'type': 'rosterUpdate', 'subscriptionIndex': 1, 'updates': [{'participant': '0815ba1b-406d-49fb-9ef4-08e62820f8ea', 'updateType': 'update', 'name': 'JG', 'uri': 'jacek.gumulka@free.calls.webex.com', 'activeSpeaker': True}]}, 'date': '2020-06-08T08:11:37.884284', 'call': 'eee585f7-7558-469c-8550-97671c065bdb'}\n",
      "{'type': 'message', 'message': {'messageId': 1, 'type': 'rosterUpdate', 'subscriptionIndex': 1, 'updates': [{'participant': '0815ba1b-406d-49fb-9ef4-08e62820f8ea', 'updateType': 'update', 'name': 'JG', 'uri': 'jacek.gumulka@free.calls.webex.com'}]}, 'date': '2020-06-08T08:11:38.867351', 'call': 'eee585f7-7558-469c-8550-97671c065bdb'}\n",
      "{'type': 'message', 'message': {'messageId': 1, 'type': 'rosterUpdate', 'subscriptionIndex': 1, 'updates': [{'participant': '0815ba1b-406d-49fb-9ef4-08e62820f8ea', 'updateType': 'add', 'name': 'JG', 'uri': 'jacek.gumulka@free.calls.webex.com', 'state': 'connected', 'direction': 'outgoing', 'movedParticipant': '63616c6c-2e63-6973-636f-737061726b2e', 'movedParticipantCallBridge': '2e776573-6965-7273-6b61-406d6368652e', 'canMove': True, 'layout': 'onePlusFive', 'endpointRecording': 'inactive'}]}, 'date': '2020-06-08T08:12:17.707286', 'call': 'eee585f7-7558-469c-8550-97671c065bdb'}\n",
      "{'type': 'message', 'message': {'messageId': 1, 'type': 'rosterUpdate', 'subscriptionIndex': 1, 'updates': [{'participant': 'ca9c80b4-51d1-48d9-b4a8-1e085137f644', 'updateType': 'add', 'name': 'recording', 'uri': 'guest205907270@meet.mche.edu.pl', 'state': 'connected', 'direction': 'outgoing', 'layout': 'onePlusFive', 'endpointRecording': 'inactive'}]}, 'date': '2020-06-08T08:12:17.707286', 'call': 'eee585f7-7558-469c-8550-97671c065bdb'}\n",
      "{'type': 'message', 'message': {'messageId': 1, 'type': 'rosterUpdate', 'subscriptionIndex': 1, 'updates': [{'participant': '8af47698-42a3-4f2a-b454-f2a44d55bd3f', 'updateType': 'add', 'uri': 'm.guzalwozniak@mche.call.ciscospark.com', 'state': 'initial', 'direction': 'incoming', 'canMove': True, 'layout': 'onePlusFive', 'endpointRecording': 'inactive'}]}, 'date': '2020-06-08T08:12:20.553503', 'call': 'eee585f7-7558-469c-8550-97671c065bdb'}\n",
      "{'type': 'message', 'message': {'messageId': 1, 'type': 'rosterUpdate', 'subscriptionIndex': 1, 'updates': [{'participant': '8af47698-42a3-4f2a-b454-f2a44d55bd3f', 'updateType': 'update', 'uri': 'm.guzalwozniak@mche.call.ciscospark.com', 'state': 'connected'}]}, 'date': '2020-06-08T08:12:20.572505', 'call': 'eee585f7-7558-469c-8550-97671c065bdb'}\n",
      "{'type': 'message', 'message': {'messageId': 1, 'type': 'rosterUpdate', 'subscriptionIndex': 1, 'updates': [{'participant': '8af47698-42a3-4f2a-b454-f2a44d55bd3f', 'updateType': 'update', 'uri': 'm.guzalwozniak@mche.call.ciscospark.com', 'activeSpeaker': True}]}, 'date': '2020-06-08T08:12:26.045917', 'call': 'eee585f7-7558-469c-8550-97671c065bdb'}\n",
      "{'type': 'message', 'message': {'messageId': 1, 'type': 'rosterUpdate', 'subscriptionIndex': 1, 'updates': [{'participant': '8af47698-42a3-4f2a-b454-f2a44d55bd3f', 'updateType': 'update', 'uri': 'm.guzalwozniak@mche.call.ciscospark.com'}]}, 'date': '2020-06-08T08:12:35.057600', 'call': 'eee585f7-7558-469c-8550-97671c065bdb'}\n",
      "{'type': 'message', 'message': {'messageId': 1, 'type': 'rosterUpdate', 'subscriptionIndex': 1, 'updates': [{'participant': '8af47698-42a3-4f2a-b454-f2a44d55bd3f', 'updateType': 'remove', 'uri': 'm.guzalwozniak@mche.call.ciscospark.com'}]}, 'date': '2020-06-08T08:12:35.874661', 'call': 'eee585f7-7558-469c-8550-97671c065bdb'}\n",
      "{'type': 'message', 'message': {'messageId': 1, 'type': 'rosterUpdate', 'subscriptionIndex': 1, 'updates': [{'participant': 'ca9c80b4-51d1-48d9-b4a8-1e085137f644', 'updateType': 'add', 'name': 'recording', 'uri': 'guest205907270@meet.mche.edu.pl', 'state': 'connected', 'direction': 'outgoing', 'layout': 'onePlusFive', 'endpointRecording': 'inactive'}]}, 'date': '2020-06-08T08:12:59.790470', 'call': 'eee585f7-7558-469c-8550-97671c065bdb'}\n",
      "{'type': 'message', 'message': {'messageId': 1, 'type': 'rosterUpdate', 'subscriptionIndex': 1, 'updates': [{'participant': '0815ba1b-406d-49fb-9ef4-08e62820f8ea', 'updateType': 'add', 'name': 'JG', 'uri': 'jacek.gumulka@free.calls.webex.com', 'state': 'connected', 'direction': 'outgoing', 'movedParticipant': '63616c6c-2e63-6973-636f-737061726b2e', 'movedParticipantCallBridge': '2e776573-6965-7273-6b61-406d6368652e', 'canMove': True, 'layout': 'onePlusFive', 'endpointRecording': 'inactive'}]}, 'date': '2020-06-08T08:12:59.790470', 'call': 'eee585f7-7558-469c-8550-97671c065bdb'}\n",
      "{'type': 'message', 'message': {'messageId': 1, 'type': 'rosterUpdate', 'subscriptionIndex': 1, 'updates': [{'participant': 'ece6d7ce-d743-4fcf-8030-0a09a3b13ab7', 'updateType': 'add', 'uri': 'r.trojanski@mche.call.ciscospark.com', 'state': 'connected', 'direction': 'incoming', 'canMove': True, 'layout': 'onePlusFive', 'endpointRecording': 'inactive'}]}, 'date': '2020-06-08T08:13:37.536326', 'call': 'eee585f7-7558-469c-8550-97671c065bdb'}\n",
      "{'type': 'message', 'message': {'messageId': 1, 'type': 'rosterUpdate', 'subscriptionIndex': 1, 'updates': [{'participant': '0815ba1b-406d-49fb-9ef4-08e62820f8ea', 'updateType': 'add', 'name': 'JG', 'uri': 'jacek.gumulka@free.calls.webex.com', 'state': 'connected', 'direction': 'outgoing', 'movedParticipant': '63616c6c-2e63-6973-636f-737061726b2e', 'movedParticipantCallBridge': '2e776573-6965-7273-6b61-406d6368652e', 'canMove': True, 'layout': 'onePlusFive', 'endpointRecording': 'inactive'}]}, 'date': '2020-06-08T08:13:41.906656', 'call': 'eee585f7-7558-469c-8550-97671c065bdb'}\n",
      "{'type': 'message', 'message': {'messageId': 1, 'type': 'rosterUpdate', 'subscriptionIndex': 1, 'updates': [{'participant': 'ca9c80b4-51d1-48d9-b4a8-1e085137f644', 'updateType': 'add', 'name': 'recording', 'uri': 'guest205907270@meet.mche.edu.pl', 'state': 'connected', 'direction': 'outgoing', 'layout': 'onePlusFive', 'endpointRecording': 'inactive'}]}, 'date': '2020-06-08T08:13:41.906656', 'call': 'eee585f7-7558-469c-8550-97671c065bdb'}\n",
      "{'type': 'message', 'message': {'messageId': 1, 'type': 'rosterUpdate', 'subscriptionIndex': 1, 'updates': [{'participant': 'ece6d7ce-d743-4fcf-8030-0a09a3b13ab7', 'updateType': 'remove', 'uri': 'r.trojanski@mche.call.ciscospark.com'}]}, 'date': '2020-06-08T08:13:50.057267', 'call': 'eee585f7-7558-469c-8550-97671c065bdb'}\n",
      "{'type': 'message', 'message': {'messageId': 1, 'type': 'rosterUpdate', 'subscriptionIndex': 1, 'updates': [{'participant': '0815ba1b-406d-49fb-9ef4-08e62820f8ea', 'updateType': 'add', 'name': 'JG', 'uri': 'jacek.gumulka@free.calls.webex.com', 'state': 'connected', 'direction': 'outgoing', 'movedParticipant': '63616c6c-2e63-6973-636f-737061726b2e', 'movedParticipantCallBridge': '2e776573-6965-7273-6b61-406d6368652e', 'canMove': True, 'layout': 'onePlusFive', 'endpointRecording': 'inactive'}]}, 'date': '2020-06-08T08:14:24.014838', 'call': 'eee585f7-7558-469c-8550-97671c065bdb'}\n"
     ]
    },
    {
     "name": "stdout",
     "output_type": "stream",
     "text": [
      "{'type': 'message', 'message': {'messageId': 1, 'type': 'rosterUpdate', 'subscriptionIndex': 1, 'updates': [{'participant': 'ca9c80b4-51d1-48d9-b4a8-1e085137f644', 'updateType': 'add', 'name': 'recording', 'uri': 'guest205907270@meet.mche.edu.pl', 'state': 'connected', 'direction': 'outgoing', 'layout': 'onePlusFive', 'endpointRecording': 'inactive'}]}, 'date': '2020-06-08T08:14:24.014838', 'call': 'eee585f7-7558-469c-8550-97671c065bdb'}\n",
      "{'type': 'message', 'message': {'messageId': 1, 'type': 'rosterUpdate', 'subscriptionIndex': 1, 'updates': [{'participant': 'ca9c80b4-51d1-48d9-b4a8-1e085137f644', 'updateType': 'add', 'name': 'recording', 'uri': 'guest205907270@meet.mche.edu.pl', 'state': 'connected', 'direction': 'outgoing', 'layout': 'onePlusFive', 'endpointRecording': 'inactive'}]}, 'date': '2020-06-08T08:15:06.126022', 'call': 'eee585f7-7558-469c-8550-97671c065bdb'}\n",
      "{'type': 'message', 'message': {'messageId': 1, 'type': 'rosterUpdate', 'subscriptionIndex': 1, 'updates': [{'participant': '0815ba1b-406d-49fb-9ef4-08e62820f8ea', 'updateType': 'add', 'name': 'JG', 'uri': 'jacek.gumulka@free.calls.webex.com', 'state': 'connected', 'direction': 'outgoing', 'movedParticipant': '63616c6c-2e63-6973-636f-737061726b2e', 'movedParticipantCallBridge': '2e776573-6965-7273-6b61-406d6368652e', 'canMove': True, 'layout': 'onePlusFive', 'endpointRecording': 'inactive'}]}, 'date': '2020-06-08T08:15:06.126022', 'call': 'eee585f7-7558-469c-8550-97671c065bdb'}\n",
      "{'type': 'message', 'message': {'messageId': 1, 'type': 'rosterUpdate', 'subscriptionIndex': 1, 'updates': [{'participant': 'ca9c80b4-51d1-48d9-b4a8-1e085137f644', 'updateType': 'add', 'name': 'recording', 'uri': 'guest205907270@meet.mche.edu.pl', 'state': 'connected', 'direction': 'outgoing', 'layout': 'onePlusFive', 'endpointRecording': 'inactive'}]}, 'date': '2020-06-08T08:15:48.221200', 'call': 'eee585f7-7558-469c-8550-97671c065bdb'}\n",
      "{'type': 'message', 'message': {'messageId': 1, 'type': 'rosterUpdate', 'subscriptionIndex': 1, 'updates': [{'participant': '0815ba1b-406d-49fb-9ef4-08e62820f8ea', 'updateType': 'add', 'name': 'JG', 'uri': 'jacek.gumulka@free.calls.webex.com', 'state': 'connected', 'direction': 'outgoing', 'movedParticipant': '63616c6c-2e63-6973-636f-737061726b2e', 'movedParticipantCallBridge': '2e776573-6965-7273-6b61-406d6368652e', 'canMove': True, 'layout': 'onePlusFive', 'endpointRecording': 'inactive'}]}, 'date': '2020-06-08T08:15:48.221200', 'call': 'eee585f7-7558-469c-8550-97671c065bdb'}\n",
      "{'type': 'message', 'message': {'messageId': 1, 'type': 'rosterUpdate', 'subscriptionIndex': 1, 'updates': [{'participant': '0815ba1b-406d-49fb-9ef4-08e62820f8ea', 'updateType': 'update', 'uri': 'jacek.gumulka@free.calls.webex.com'}]}, 'date': '2020-06-08T08:16:25.268003', 'call': 'eee585f7-7558-469c-8550-97671c065bdb'}\n"
     ]
    }
   ],
   "source": [
    "for j,i in enumerate(data):\n",
    "    topic = str(i['message']['type'])+\"11\"\n",
    "    producer.send(topic=topic, value=i)\n",
    "    print(i)\n",
    "    sleep(5)"
   ]
  },
  {
   "cell_type": "code",
   "execution_count": null,
   "metadata": {},
   "outputs": [],
   "source": []
  }
 ],
 "metadata": {
  "kernelspec": {
   "display_name": "venv",
   "language": "python",
   "name": "venv"
  },
  "language_info": {
   "codemirror_mode": {
    "name": "ipython",
    "version": 3
   },
   "file_extension": ".py",
   "mimetype": "text/x-python",
   "name": "python",
   "nbconvert_exporter": "python",
   "pygments_lexer": "ipython3",
   "version": "3.8.5"
  },
  "toc": {
   "base_numbering": 1,
   "nav_menu": {},
   "number_sections": true,
   "sideBar": true,
   "skip_h1_title": false,
   "title_cell": "Table of Contents",
   "title_sidebar": "Contents",
   "toc_cell": false,
   "toc_position": {},
   "toc_section_display": true,
   "toc_window_display": false
  }
 },
 "nbformat": 4,
 "nbformat_minor": 2
}
