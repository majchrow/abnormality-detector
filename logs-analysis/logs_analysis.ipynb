{
 "cells": [
  {
   "cell_type": "markdown",
   "metadata": {
    "toc": true
   },
   "source": [
    "<h1>Table of Contents<span class=\"tocSkip\"></span></h1>\n",
    "<div class=\"toc\"><ul class=\"toc-item\"></ul></div>"
   ]
  },
  {
   "cell_type": "code",
   "execution_count": null,
   "metadata": {
    "ExecuteTime": {
     "end_time": "2020-06-17T17:07:29.483762Z",
     "start_time": "2020-06-17T17:07:29.477778Z"
    }
   },
   "outputs": [],
   "source": [
    "from pyspark import SparkContext, SparkConf, SQLContext\n",
    "from pyspark.sql import SparkSession\n",
    "import json\n",
    "from os import listdir\n",
    "from os.path import isfile, join\n",
    "import platform\n",
    "import pandas as pd\n",
    "from itertools import chain"
   ]
  },
  {
   "cell_type": "code",
   "execution_count": null,
   "metadata": {
    "ExecuteTime": {
     "end_time": "2020-06-17T16:53:57.662609Z",
     "start_time": "2020-06-17T16:53:57.658580Z"
    }
   },
   "outputs": [],
   "source": [
    "LOGS_DIR_PATH = \"\" # path to dir with log files (only)\n",
    "MSG_TYPES = ['callListUpdate', 'rosterUpdate','callInfoUpdate']"
   ]
  },
  {
   "cell_type": "code",
   "execution_count": null,
   "metadata": {
    "ExecuteTime": {
     "end_time": "2020-06-17T16:53:58.021680Z",
     "start_time": "2020-06-17T16:53:58.015696Z"
    }
   },
   "outputs": [],
   "source": [
    "def get_absolute_path(log_file):\n",
    "    paths = {\n",
    "        \"Linux\" : LOGS_DIR_PATH + \"/\" + log_file,\n",
    "        \"Windows\" : LOGS_DIR_PATH + \"\\\\\" + log_file\n",
    "    }\n",
    "    return paths.get(platform.system(), '')"
   ]
  },
  {
   "cell_type": "code",
   "execution_count": null,
   "metadata": {
    "ExecuteTime": {
     "end_time": "2020-06-17T16:53:58.343422Z",
     "start_time": "2020-06-17T16:53:58.338325Z"
    }
   },
   "outputs": [],
   "source": [
    "def transform_msg(message):\n",
    "    msg = message[0]\n",
    "    date = message[1]\n",
    "    msg[\"date\"] = date\n",
    "    return msg"
   ]
  },
  {
   "cell_type": "code",
   "execution_count": null,
   "metadata": {
    "ExecuteTime": {
     "end_time": "2020-06-17T16:53:58.648210Z",
     "start_time": "2020-06-17T16:53:58.638238Z"
    }
   },
   "outputs": [],
   "source": [
    "def transform_call_list_or_roster_update(msg, date, bridge_num):\n",
    "    msg_id = msg[\"messageId\"]\n",
    "    msg_type = msg[\"type\"]\n",
    "    subscriptionIndex = msg[\"subscriptionIndex\"]\n",
    "    updates = []\n",
    "    for update in msg[\"updates\"]:\n",
    "        update[\"type\"] = msg_type\n",
    "        update[\"messageId\"] = msg_id\n",
    "        update[\"subscriptionIndex\"] = subscriptionIndex\n",
    "        update[\"date\"] = date\n",
    "        update[\"bridge_num\"] = bridge_num\n",
    "        updates.append(update)\n",
    "    return updates"
   ]
  },
  {
   "cell_type": "code",
   "execution_count": null,
   "metadata": {
    "ExecuteTime": {
     "end_time": "2020-06-17T16:53:59.073968Z",
     "start_time": "2020-06-17T16:53:59.063994Z"
    }
   },
   "outputs": [],
   "source": [
    "def transform_call_info(msg, date, bridge_num):\n",
    "    msg_id = msg[\"messageId\"]\n",
    "    msg_type = msg[\"type\"]\n",
    "    subscriptionIndex = msg[\"subscriptionIndex\"]\n",
    "    call_info = msg[\"callInfo\"]\n",
    "    call_info[\"type\"] = msg_type\n",
    "    call_info[\"messageId\"] = msg_id\n",
    "    call_info[\"subscriptionIndex\"] = subscriptionIndex\n",
    "    call_info[\"date\"] = date\n",
    "    call_info[\"bridge_num\"] = bridge_num\n",
    "    return [call_info]"
   ]
  },
  {
   "cell_type": "code",
   "execution_count": null,
   "metadata": {
    "ExecuteTime": {
     "end_time": "2020-06-17T16:54:00.911595Z",
     "start_time": "2020-06-17T16:54:00.903616Z"
    }
   },
   "outputs": [],
   "source": [
    "def transform(msg, date, bridge_num):\n",
    "    transformation = {\n",
    "        \"callInfoUpdate\" : lambda x: transform_call_info(x, date, bridge_num),\n",
    "        \"rosterUpdate\" : lambda x: transform_call_list_or_roster_update(x, date, bridge_num),\n",
    "        \"callListUpdate\" : lambda x: transform_call_list_or_roster_update(x, date, bridge_num)\n",
    "    }\n",
    "    return transformation[msg[\"type\"]](msg)"
   ]
  },
  {
   "cell_type": "code",
   "execution_count": null,
   "metadata": {
    "ExecuteTime": {
     "end_time": "2020-06-17T16:54:01.920806Z",
     "start_time": "2020-06-17T16:54:01.912827Z"
    }
   },
   "outputs": [],
   "source": [
    "def preprocess_data(data, bridge_num):\n",
    "    messages = [transform(el[\"message\"], el[\"date\"], bridge_num) for el in data if el[\"type\"] == \"message\" and el[\"message\"][\"type\"] in MSG_TYPES]\n",
    "    return list(chain(*messages))"
   ]
  },
  {
   "cell_type": "code",
   "execution_count": null,
   "metadata": {
    "ExecuteTime": {
     "end_time": "2020-06-17T16:54:02.521862Z",
     "start_time": "2020-06-17T16:54:02.511889Z"
    }
   },
   "outputs": [],
   "source": [
    "def join_all_logs(files):\n",
    "    all_data = []\n",
    "    \n",
    "    for i,log_file in enumerate(files):\n",
    "        with open(log_file) as f:\n",
    "            data = json.load(f)\n",
    "            messages = preprocess_data(data, i)\n",
    "            all_data.extend(messages)\n",
    "            print(len(data))\n",
    "    \n",
    "    print(len(all_data))\n",
    "    return all_data"
   ]
  },
  {
   "cell_type": "code",
   "execution_count": null,
   "metadata": {
    "ExecuteTime": {
     "end_time": "2020-06-17T16:54:05.608426Z",
     "start_time": "2020-06-17T16:54:03.310264Z"
    }
   },
   "outputs": [],
   "source": [
    "log_files = [get_absolute_path(file) for file in listdir(LOGS_DIR_PATH)]\n",
    "data = join_all_logs(log_files)\n",
    "data"
   ]
  },
  {
   "cell_type": "code",
   "execution_count": null,
   "metadata": {
    "ExecuteTime": {
     "end_time": "2020-06-17T17:05:29.177718Z",
     "start_time": "2020-06-17T17:05:28.913747Z"
    }
   },
   "outputs": [],
   "source": [
    "df_info = pd.DataFrame([el for el in data if el[\"type\"] == \"callInfoUpdate\"])\n",
    "df_list = pd.DataFrame([el for el in data if el[\"type\"] == \"callListUpdate\"])\n",
    "df_roster = pd.DataFrame([el for el in data if el[\"type\"] == \"rosterUpdate\"])"
   ]
  },
  {
   "cell_type": "code",
   "execution_count": null,
   "metadata": {
    "ExecuteTime": {
     "end_time": "2020-06-17T17:07:59.023582Z",
     "start_time": "2020-06-17T17:07:59.009602Z"
    }
   },
   "outputs": [],
   "source": [
    "# conf = SparkConf().setAppName(\"LogsAnalysis\").setMaster(\"local[*]\")\n",
    "# sc = SparkContext.getOrCreate(conf=conf)\n",
    "# ss = SparkSession.builder.getOrCreate()\n",
    "# sqlc = SQLContext(sc)"
   ]
  },
  {
   "cell_type": "code",
   "execution_count": null,
   "metadata": {
    "ExecuteTime": {
     "end_time": "2020-06-17T17:43:12.293092Z",
     "start_time": "2020-06-17T17:43:12.263193Z"
    }
   },
   "outputs": [],
   "source": [
    "df_list"
   ]
  },
  {
   "cell_type": "code",
   "execution_count": null,
   "metadata": {
    "ExecuteTime": {
     "end_time": "2020-06-17T17:12:11.670126Z",
     "start_time": "2020-06-17T17:12:11.655649Z"
    }
   },
   "outputs": [],
   "source": [
    "calls = list(pd.unique(df_list[\"call\"]))\n",
    "call_correlators = list(pd.unique(df_list[\"callCorrelator\"]))\n",
    "list(set(calls).intersection(call_correlators))"
   ]
  },
  {
   "cell_type": "code",
   "execution_count": null,
   "metadata": {
    "ExecuteTime": {
     "end_time": "2020-06-17T17:27:21.000042Z",
     "start_time": "2020-06-17T17:27:20.705722Z"
    }
   },
   "outputs": [],
   "source": [
    "dfs_calls = []\n",
    "\n",
    "for call in calls:\n",
    "    call_data = df_list[df_list[\"call\"] == call].sort_values(by=[\"date\"])[[\"call\", \"updateType\", \"name\", \"participants\", \"streaming\", \"recording\", \"date\", \"reason\"]]\n",
    "    call_data[\"name\"] = call_data[\"name\"].fillna(method=\"ffill\")\n",
    "    dfs_calls.append(call_data)"
   ]
  },
  {
   "cell_type": "code",
   "execution_count": null,
   "metadata": {
    "ExecuteTime": {
     "end_time": "2020-06-17T17:31:12.867065Z",
     "start_time": "2020-06-17T17:31:12.845127Z"
    }
   },
   "outputs": [],
   "source": [
    "dfs_calls[0]"
   ]
  },
  {
   "cell_type": "code",
   "execution_count": null,
   "metadata": {
    "ExecuteTime": {
     "end_time": "2020-06-17T17:31:22.390440Z",
     "start_time": "2020-06-17T17:31:22.366541Z"
    }
   },
   "outputs": [],
   "source": [
    "dfs_calls[3]"
   ]
  },
  {
   "cell_type": "code",
   "execution_count": null,
   "metadata": {
    "ExecuteTime": {
     "end_time": "2020-06-17T17:28:42.178334Z",
     "start_time": "2020-06-17T17:28:42.118488Z"
    }
   },
   "outputs": [],
   "source": [
    "all_calls = pd.concat(dfs_calls)\n",
    "all_calls"
   ]
  },
  {
   "cell_type": "code",
   "execution_count": null,
   "metadata": {
    "ExecuteTime": {
     "end_time": "2020-06-17T17:28:31.934500Z",
     "start_time": "2020-06-17T17:28:31.879751Z"
    }
   },
   "outputs": [],
   "source": [
    "all_calls.to_csv(\"all_calls.csv\", index=None)"
   ]
  },
  {
   "cell_type": "code",
   "execution_count": null,
   "metadata": {
    "ExecuteTime": {
     "end_time": "2020-06-17T17:33:54.814082Z",
     "start_time": "2020-06-17T17:33:54.722166Z"
    }
   },
   "outputs": [],
   "source": [
    "df_roster"
   ]
  },
  {
   "cell_type": "code",
   "execution_count": null,
   "metadata": {
    "ExecuteTime": {
     "end_time": "2020-06-17T17:40:05.117309Z",
     "start_time": "2020-06-17T17:40:03.438857Z"
    }
   },
   "outputs": [],
   "source": [
    "participants = pd.unique(df_roster[\"participant\"])\n",
    "\n",
    "dfs_roster = []\n",
    "\n",
    "for p in participants:\n",
    "    df_part = df_roster[df_roster[\"participant\"] == p].sort_values(by=[\"date\"])[[\"participant\", \"updateType\", \"name\", \"uri\", \"state\", \"activeSpeaker\", \"presenter\", \"date\"]]\n",
    "    df_part[\"name\"] = df_part[\"name\"].fillna(method=\"ffill\")\n",
    "    dfs_roster.append(df_part)"
   ]
  },
  {
   "cell_type": "code",
   "execution_count": null,
   "metadata": {
    "ExecuteTime": {
     "end_time": "2020-06-17T17:42:47.578237Z",
     "start_time": "2020-06-17T17:42:47.560844Z"
    }
   },
   "outputs": [],
   "source": [
    "dfs_roster[0]"
   ]
  },
  {
   "cell_type": "code",
   "execution_count": null,
   "metadata": {
    "ExecuteTime": {
     "end_time": "2020-06-17T17:43:24.783162Z",
     "start_time": "2020-06-17T17:43:24.760094Z"
    }
   },
   "outputs": [],
   "source": [
    "dfs_roster[10]"
   ]
  },
  {
   "cell_type": "code",
   "execution_count": null,
   "metadata": {
    "ExecuteTime": {
     "end_time": "2020-06-17T17:44:00.268636Z",
     "start_time": "2020-06-17T17:44:00.201061Z"
    }
   },
   "outputs": [],
   "source": [
    "all_participants = pd.concat(dfs_roster)\n",
    "all_participants"
   ]
  },
  {
   "cell_type": "code",
   "execution_count": null,
   "metadata": {
    "ExecuteTime": {
     "end_time": "2020-06-17T17:45:20.157408Z",
     "start_time": "2020-06-17T17:45:20.003949Z"
    }
   },
   "outputs": [],
   "source": [
    "all_participants.to_csv(\"all_participants.csv\", index=None)"
   ]
  },
  {
   "cell_type": "code",
   "execution_count": null,
   "metadata": {
    "ExecuteTime": {
     "end_time": "2020-06-17T17:45:34.743234Z",
     "start_time": "2020-06-17T17:45:34.707330Z"
    }
   },
   "outputs": [],
   "source": [
    "df_info"
   ]
  },
  {
   "cell_type": "code",
   "execution_count": null,
   "metadata": {},
   "outputs": [],
   "source": []
  }
 ],
 "metadata": {
  "kernelspec": {
   "display_name": "Python 3",
   "language": "python",
   "name": "python3"
  },
  "language_info": {
   "codemirror_mode": {
    "name": "ipython",
    "version": 3
   },
   "file_extension": ".py",
   "mimetype": "text/x-python",
   "name": "python",
   "nbconvert_exporter": "python",
   "pygments_lexer": "ipython3",
   "version": "3.6.9"
  },
  "toc": {
   "base_numbering": 1,
   "nav_menu": {},
   "number_sections": false,
   "sideBar": true,
   "skip_h1_title": false,
   "title_cell": "Table of Contents",
   "title_sidebar": "Contents",
   "toc_cell": true,
   "toc_position": {
    "height": "calc(100% - 180px)",
    "left": "10px",
    "top": "150px",
    "width": "420px"
   },
   "toc_section_display": true,
   "toc_window_display": true
  }
 },
 "nbformat": 4,
 "nbformat_minor": 2
}
