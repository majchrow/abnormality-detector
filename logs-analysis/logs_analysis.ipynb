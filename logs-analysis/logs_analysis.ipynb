{
 "cells": [
  {
   "cell_type": "code",
   "execution_count": null,
   "metadata": {
    "ExecuteTime": {
     "end_time": "2020-09-20T17:56:17.178311Z",
     "start_time": "2020-09-20T17:56:16.444103Z"
    }
   },
   "outputs": [],
   "source": [
    "from pyspark import SparkContext, SparkConf, SQLContext\n",
    "from pyspark.sql import SparkSession\n",
    "import json\n",
    "from os import listdir\n",
    "from os.path import isfile, join\n",
    "import platform\n",
    "import pandas as pd\n",
    "from itertools import chain"
   ]
  },
  {
   "cell_type": "code",
   "execution_count": null,
   "metadata": {
    "ExecuteTime": {
     "end_time": "2020-09-20T17:56:17.184108Z",
     "start_time": "2020-09-20T17:56:17.180144Z"
    }
   },
   "outputs": [],
   "source": [
    "LOGS_DIR_PATH = \"D:\\\\inzynierka\\\\logs\" # path to dir with log files (only)\n",
    "MSG_TYPES = ['callListUpdate', 'rosterUpdate','callInfoUpdate']"
   ]
  },
  {
   "cell_type": "markdown",
   "metadata": {},
   "source": [
    "## Basic functions for logs preprocessing"
   ]
  },
  {
   "cell_type": "code",
   "execution_count": null,
   "metadata": {
    "ExecuteTime": {
     "end_time": "2020-09-20T17:56:17.199704Z",
     "start_time": "2020-09-20T17:56:17.187128Z"
    }
   },
   "outputs": [],
   "source": [
    "def get_absolute_path(log_file):\n",
    "    paths = {\n",
    "        \"Linux\" : LOGS_DIR_PATH + \"/\" + log_file,\n",
    "        \"Windows\" : LOGS_DIR_PATH + \"\\\\\" + log_file\n",
    "    }\n",
    "    return paths.get(platform.system(), '')"
   ]
  },
  {
   "cell_type": "code",
   "execution_count": null,
   "metadata": {
    "ExecuteTime": {
     "end_time": "2020-09-20T17:56:17.206670Z",
     "start_time": "2020-09-20T17:56:17.202667Z"
    }
   },
   "outputs": [],
   "source": [
    "def transform_msg(message):\n",
    "    msg = message[0]\n",
    "    date = message[1]\n",
    "    msg[\"date\"] = date\n",
    "    return msg"
   ]
  },
  {
   "cell_type": "code",
   "execution_count": null,
   "metadata": {
    "ExecuteTime": {
     "end_time": "2020-09-20T17:56:17.216669Z",
     "start_time": "2020-09-20T17:56:17.209670Z"
    }
   },
   "outputs": [],
   "source": [
    "def transform_call_list_or_roster_update(msg, date, bridge_num):\n",
    "    msg_id = msg[\"messageId\"]\n",
    "    msg_type = msg[\"type\"]\n",
    "    subscriptionIndex = msg[\"subscriptionIndex\"]\n",
    "    updates = []\n",
    "    for update in msg[\"updates\"]:\n",
    "        update[\"type\"] = msg_type\n",
    "        update[\"messageId\"] = msg_id\n",
    "        update[\"subscriptionIndex\"] = subscriptionIndex\n",
    "        update[\"date\"] = date\n",
    "        update[\"bridge_num\"] = bridge_num\n",
    "        updates.append(update)\n",
    "    return updates"
   ]
  },
  {
   "cell_type": "code",
   "execution_count": null,
   "metadata": {
    "ExecuteTime": {
     "end_time": "2020-09-20T17:56:17.223700Z",
     "start_time": "2020-09-20T17:56:17.218702Z"
    }
   },
   "outputs": [],
   "source": [
    "def transform_call_info(msg, date, bridge_num):\n",
    "    msg_id = msg[\"messageId\"]\n",
    "    msg_type = msg[\"type\"]\n",
    "    subscriptionIndex = msg[\"subscriptionIndex\"]\n",
    "    call_info = msg[\"callInfo\"]\n",
    "    call_info[\"type\"] = msg_type\n",
    "    call_info[\"messageId\"] = msg_id\n",
    "    call_info[\"subscriptionIndex\"] = subscriptionIndex\n",
    "    call_info[\"date\"] = date\n",
    "    call_info[\"bridge_num\"] = bridge_num\n",
    "    return [call_info]"
   ]
  },
  {
   "cell_type": "code",
   "execution_count": null,
   "metadata": {
    "ExecuteTime": {
     "end_time": "2020-09-20T17:56:17.230670Z",
     "start_time": "2020-09-20T17:56:17.225667Z"
    }
   },
   "outputs": [],
   "source": [
    "def transform(msg, date, bridge_num):\n",
    "    transformation = {\n",
    "        \"callInfoUpdate\" : lambda x: transform_call_info(x, date, bridge_num),\n",
    "        \"rosterUpdate\" : lambda x: transform_call_list_or_roster_update(x, date, bridge_num),\n",
    "        \"callListUpdate\" : lambda x: transform_call_list_or_roster_update(x, date, bridge_num)\n",
    "    }\n",
    "    return transformation[msg[\"type\"]](msg)"
   ]
  },
  {
   "cell_type": "code",
   "execution_count": null,
   "metadata": {
    "ExecuteTime": {
     "end_time": "2020-09-20T17:56:17.241709Z",
     "start_time": "2020-09-20T17:56:17.234667Z"
    }
   },
   "outputs": [],
   "source": [
    "def preprocess_data(data, bridge_num):\n",
    "    messages = [transform(el[\"message\"], el[\"date\"], bridge_num) for el in data if el[\"type\"] == \"message\" and el[\"message\"][\"type\"] in MSG_TYPES]\n",
    "    return list(chain(*messages))"
   ]
  },
  {
   "cell_type": "code",
   "execution_count": null,
   "metadata": {
    "ExecuteTime": {
     "end_time": "2020-09-20T17:56:17.250703Z",
     "start_time": "2020-09-20T17:56:17.244671Z"
    }
   },
   "outputs": [],
   "source": [
    "def join_all_logs(files):\n",
    "    all_data = []\n",
    "    \n",
    "    for i,log_file in enumerate(files):\n",
    "        with open(log_file) as f:\n",
    "            data = json.load(f)\n",
    "            messages = preprocess_data(data, i)\n",
    "            all_data.extend(messages)\n",
    "            print(len(data))\n",
    "    \n",
    "    print(len(all_data))\n",
    "    return all_data"
   ]
  },
  {
   "cell_type": "markdown",
   "metadata": {
    "ExecuteTime": {
     "end_time": "2020-09-13T10:49:02.090800Z",
     "start_time": "2020-09-13T10:49:02.087725Z"
    }
   },
   "source": [
    "## Extract all callListUpdate events and save them to file"
   ]
  },
  {
   "cell_type": "code",
   "execution_count": null,
   "metadata": {
    "ExecuteTime": {
     "end_time": "2020-09-20T17:56:17.258724Z",
     "start_time": "2020-09-20T17:56:17.252668Z"
    }
   },
   "outputs": [],
   "source": [
    "def get_all_events(files):\n",
    "    all_data = []\n",
    "    \n",
    "    for i,log_file in enumerate(files):\n",
    "        with open(log_file) as f:\n",
    "            data = json.load(f)\n",
    "            data = [el for el in data if el[\"type\"] == \"message\" and el[\"message\"][\"type\"] == \"callListUpdate\"]\n",
    "            all_data.extend(data)\n",
    "            print(len(data))\n",
    "    \n",
    "    print(len(all_data))\n",
    "    return all_data"
   ]
  },
  {
   "cell_type": "code",
   "execution_count": null,
   "metadata": {
    "ExecuteTime": {
     "end_time": "2020-09-20T17:56:18.746445Z",
     "start_time": "2020-09-20T17:56:17.260701Z"
    }
   },
   "outputs": [],
   "source": [
    "log_files = [get_absolute_path(file) for file in listdir(LOGS_DIR_PATH)]\n",
    "data = get_all_events(log_files)"
   ]
  },
  {
   "cell_type": "code",
   "execution_count": null,
   "metadata": {
    "ExecuteTime": {
     "end_time": "2020-09-20T17:56:18.757443Z",
     "start_time": "2020-09-20T17:56:18.747444Z"
    }
   },
   "outputs": [],
   "source": [
    "data[0].keys()"
   ]
  },
  {
   "cell_type": "code",
   "execution_count": null,
   "metadata": {
    "ExecuteTime": {
     "end_time": "2020-09-20T17:56:18.773097Z",
     "start_time": "2020-09-20T17:56:18.758958Z"
    }
   },
   "outputs": [],
   "source": [
    "data[0][\"message\"].keys()"
   ]
  },
  {
   "cell_type": "code",
   "execution_count": null,
   "metadata": {
    "ExecuteTime": {
     "end_time": "2020-09-20T17:56:18.784093Z",
     "start_time": "2020-09-20T17:56:18.775095Z"
    }
   },
   "outputs": [],
   "source": [
    "data[0][\"message\"]"
   ]
  },
  {
   "cell_type": "code",
   "execution_count": null,
   "metadata": {
    "ExecuteTime": {
     "end_time": "2020-09-20T17:56:18.796098Z",
     "start_time": "2020-09-20T17:56:18.788096Z"
    }
   },
   "outputs": [],
   "source": [
    "data[0]"
   ]
  },
  {
   "cell_type": "code",
   "execution_count": null,
   "metadata": {
    "ExecuteTime": {
     "end_time": "2020-09-20T17:56:18.802096Z",
     "start_time": "2020-09-20T17:56:18.798095Z"
    }
   },
   "outputs": [],
   "source": [
    "def write_json(data, filename='data.json'): \n",
    "    with open(filename,'w') as f: \n",
    "        json.dump(data, f) "
   ]
  },
  {
   "cell_type": "code",
   "execution_count": null,
   "metadata": {
    "ExecuteTime": {
     "end_time": "2020-09-20T17:56:19.170499Z",
     "start_time": "2020-09-20T17:56:18.804098Z"
    }
   },
   "outputs": [],
   "source": [
    "write_json(data, 'calls_data.json')"
   ]
  },
  {
   "cell_type": "markdown",
   "metadata": {
    "ExecuteTime": {
     "end_time": "2020-09-13T10:49:07.000395Z",
     "start_time": "2020-09-13T10:49:06.992458Z"
    }
   },
   "source": [
    "## Load and preprocess all logs data"
   ]
  },
  {
   "cell_type": "markdown",
   "metadata": {},
   "source": [
    "### Load all logs data"
   ]
  },
  {
   "cell_type": "code",
   "execution_count": null,
   "metadata": {
    "ExecuteTime": {
     "end_time": "2020-09-20T17:56:21.212181Z",
     "start_time": "2020-09-20T17:56:19.172378Z"
    }
   },
   "outputs": [],
   "source": [
    "log_files = [get_absolute_path(file) for file in listdir(LOGS_DIR_PATH)]\n",
    "data = join_all_logs(log_files)\n",
    "data"
   ]
  },
  {
   "cell_type": "markdown",
   "metadata": {},
   "source": [
    "### Divide logs based on message type"
   ]
  },
  {
   "cell_type": "code",
   "execution_count": null,
   "metadata": {
    "ExecuteTime": {
     "end_time": "2020-09-20T17:56:21.468237Z",
     "start_time": "2020-09-20T17:56:21.215177Z"
    }
   },
   "outputs": [],
   "source": [
    "df_info = pd.DataFrame([el for el in data if el[\"type\"] == \"callInfoUpdate\"])\n",
    "df_list = pd.DataFrame([el for el in data if el[\"type\"] == \"callListUpdate\"])\n",
    "df_roster = pd.DataFrame([el for el in data if el[\"type\"] == \"rosterUpdate\"])"
   ]
  },
  {
   "cell_type": "markdown",
   "metadata": {},
   "source": [
    "### Preprocess callInfoUpdate events"
   ]
  },
  {
   "cell_type": "code",
   "execution_count": null,
   "metadata": {
    "ExecuteTime": {
     "end_time": "2020-09-20T17:56:21.475255Z",
     "start_time": "2020-09-20T17:56:21.470236Z"
    }
   },
   "outputs": [],
   "source": [
    "calls = list(pd.unique(df_list[\"call\"]))"
   ]
  },
  {
   "cell_type": "code",
   "execution_count": null,
   "metadata": {
    "ExecuteTime": {
     "end_time": "2020-09-20T17:56:24.581721Z",
     "start_time": "2020-09-20T17:56:21.477283Z"
    }
   },
   "outputs": [],
   "source": [
    "dfs_calls = []\n",
    "\n",
    "for call in calls:\n",
    "    call_data = df_list[df_list[\"call\"] == call].sort_values(by=[\"date\"])[[\"call\", \"updateType\", \"name\", \"participants\", \"streaming\", \"recording\", \"date\", \"reason\"]]\n",
    "    call_data[\"name\"] = call_data[\"name\"].fillna(method=\"ffill\")\n",
    "    dfs_calls.append(call_data)"
   ]
  },
  {
   "cell_type": "code",
   "execution_count": null,
   "metadata": {
    "ExecuteTime": {
     "end_time": "2020-09-20T17:56:24.612629Z",
     "start_time": "2020-09-20T17:56:24.583584Z"
    }
   },
   "outputs": [],
   "source": [
    "dfs_calls[0]"
   ]
  },
  {
   "cell_type": "code",
   "execution_count": null,
   "metadata": {
    "ExecuteTime": {
     "end_time": "2020-09-20T17:56:24.635623Z",
     "start_time": "2020-09-20T17:56:24.618591Z"
    }
   },
   "outputs": [],
   "source": [
    "dfs_calls[3]"
   ]
  },
  {
   "cell_type": "code",
   "execution_count": null,
   "metadata": {
    "ExecuteTime": {
     "end_time": "2020-09-20T17:56:24.714621Z",
     "start_time": "2020-09-20T17:56:24.639624Z"
    }
   },
   "outputs": [],
   "source": [
    "all_calls = pd.concat(dfs_calls)\n",
    "all_calls"
   ]
  },
  {
   "cell_type": "code",
   "execution_count": null,
   "metadata": {
    "ExecuteTime": {
     "end_time": "2020-09-20T17:56:24.752620Z",
     "start_time": "2020-09-20T17:56:24.716589Z"
    }
   },
   "outputs": [],
   "source": [
    "all_calls.to_csv(\"all_calls.csv\", index=None)"
   ]
  },
  {
   "cell_type": "markdown",
   "metadata": {},
   "source": [
    "### Preprocess rosterUpdate"
   ]
  },
  {
   "cell_type": "code",
   "execution_count": null,
   "metadata": {
    "ExecuteTime": {
     "end_time": "2020-09-20T17:56:35.906295Z",
     "start_time": "2020-09-20T17:56:24.754622Z"
    }
   },
   "outputs": [],
   "source": [
    "participants = pd.unique(df_roster[\"participant\"])\n",
    "\n",
    "dfs_roster = []\n",
    "\n",
    "for p in participants:\n",
    "    df_part = df_roster[df_roster[\"participant\"] == p].sort_values(by=[\"date\"])[[\"participant\",\n",
    "                                                                                 \"updateType\", \n",
    "                                                                                 \"name\", \n",
    "                                                                                 \"uri\", \n",
    "                                                                                 \"state\", \n",
    "                                                                                 \"direction\", \n",
    "                                                                                 \"movedParticipant\", \n",
    "                                                                                 \"movedParticipantCallBridge\", \n",
    "                                                                                 \"canMove\", \n",
    "                                                                                 \"audioMuted\", \n",
    "                                                                                 \"videoMuted\", \n",
    "                                                                                 \"importance\", \n",
    "                                                                                 \"layout\", \n",
    "                                                                                 \"activeSpeaker\", \n",
    "                                                                                 \"presenter\",\n",
    "                                                                                 \"endpointRecording\",\n",
    "                                                                                 \"date\"]]\n",
    "    df_part[\"name\"] = df_part[\"name\"].fillna(method=\"ffill\")\n",
    "    df_part[\"uri\"] = df_part[\"uri\"].fillna(method=\"ffill\")\n",
    "    dfs_roster.append(df_part)"
   ]
  },
  {
   "cell_type": "code",
   "execution_count": null,
   "metadata": {
    "ExecuteTime": {
     "end_time": "2020-09-20T17:56:35.955257Z",
     "start_time": "2020-09-20T17:56:35.908256Z"
    }
   },
   "outputs": [],
   "source": [
    "dfs_roster[60]"
   ]
  },
  {
   "cell_type": "code",
   "execution_count": null,
   "metadata": {
    "ExecuteTime": {
     "end_time": "2020-09-20T17:56:35.983260Z",
     "start_time": "2020-09-20T17:56:35.958256Z"
    }
   },
   "outputs": [],
   "source": [
    "df_list[(df_list[\"date\"]>\"2020-06-02T09:17:20.002731\")&(df_list[\"date\"]<\"2020-06-02T09:17:27.002731\")]"
   ]
  },
  {
   "cell_type": "code",
   "execution_count": null,
   "metadata": {
    "ExecuteTime": {
     "end_time": "2020-09-20T17:56:35.992260Z",
     "start_time": "2020-09-20T17:56:35.985261Z"
    }
   },
   "outputs": [],
   "source": [
    "meeting = df_list[df_list[\"call\"]==\"2abbb064-9e7d-4c67-9217-2fd2d43de646\"].sort_values(by=[\"date\"])"
   ]
  },
  {
   "cell_type": "code",
   "execution_count": null,
   "metadata": {
    "ExecuteTime": {
     "end_time": "2020-09-20T17:56:36.002260Z",
     "start_time": "2020-09-20T17:56:35.994262Z"
    }
   },
   "outputs": [],
   "source": [
    "pd.unique(meeting[\"participants\"])"
   ]
  },
  {
   "cell_type": "code",
   "execution_count": null,
   "metadata": {
    "ExecuteTime": {
     "end_time": "2020-09-20T17:56:36.230293Z",
     "start_time": "2020-09-20T17:56:36.004262Z"
    }
   },
   "outputs": [],
   "source": [
    "all_participants = pd.concat(dfs_roster)\n",
    "all_participants"
   ]
  },
  {
   "cell_type": "code",
   "execution_count": null,
   "metadata": {
    "ExecuteTime": {
     "end_time": "2020-09-20T17:56:36.584463Z",
     "start_time": "2020-09-20T17:56:36.232260Z"
    }
   },
   "outputs": [],
   "source": [
    "all_participants.to_csv(\"all_participants.csv\", index=None)"
   ]
  },
  {
   "cell_type": "markdown",
   "metadata": {},
   "source": [
    "### Add call id to callInfoUpdate events"
   ]
  },
  {
   "cell_type": "markdown",
   "metadata": {},
   "source": [
    "#### Create dataframe with call id, name, start date and end date -> joined"
   ]
  },
  {
   "cell_type": "code",
   "execution_count": null,
   "metadata": {
    "ExecuteTime": {
     "end_time": "2020-09-20T17:56:36.596651Z",
     "start_time": "2020-09-20T17:56:36.585463Z"
    }
   },
   "outputs": [],
   "source": [
    "df_info.sort_values(by=[\"date\"], inplace=True)"
   ]
  },
  {
   "cell_type": "code",
   "execution_count": null,
   "metadata": {
    "ExecuteTime": {
     "end_time": "2020-09-20T17:56:36.607615Z",
     "start_time": "2020-09-20T17:56:36.598619Z"
    }
   },
   "outputs": [],
   "source": [
    "df_info[\"name\"] = df_info[\"name\"].fillna(method=\"ffill\")"
   ]
  },
  {
   "cell_type": "code",
   "execution_count": null,
   "metadata": {
    "ExecuteTime": {
     "end_time": "2020-09-20T17:56:36.616619Z",
     "start_time": "2020-09-20T17:56:36.609619Z"
    }
   },
   "outputs": [],
   "source": [
    "df_names = df_list[[\"call\", \"name\", \"date\"]]"
   ]
  },
  {
   "cell_type": "code",
   "execution_count": null,
   "metadata": {
    "ExecuteTime": {
     "end_time": "2020-09-20T17:56:36.626650Z",
     "start_time": "2020-09-20T17:56:36.619652Z"
    }
   },
   "outputs": [],
   "source": [
    "df_first = df_names.drop_duplicates(subset=[\"call\"], keep=\"first\")"
   ]
  },
  {
   "cell_type": "code",
   "execution_count": null,
   "metadata": {
    "ExecuteTime": {
     "end_time": "2020-09-20T17:56:36.637617Z",
     "start_time": "2020-09-20T17:56:36.628618Z"
    }
   },
   "outputs": [],
   "source": [
    "df_last = df_names.drop_duplicates(subset=[\"call\"], keep=\"last\")"
   ]
  },
  {
   "cell_type": "code",
   "execution_count": null,
   "metadata": {
    "ExecuteTime": {
     "end_time": "2020-09-20T17:56:36.644623Z",
     "start_time": "2020-09-20T17:56:36.639617Z"
    }
   },
   "outputs": [],
   "source": [
    "df_first.reset_index(inplace=True)"
   ]
  },
  {
   "cell_type": "code",
   "execution_count": null,
   "metadata": {
    "ExecuteTime": {
     "end_time": "2020-09-20T17:56:36.652615Z",
     "start_time": "2020-09-20T17:56:36.647623Z"
    }
   },
   "outputs": [],
   "source": [
    "df_last.reset_index(inplace=True)"
   ]
  },
  {
   "cell_type": "code",
   "execution_count": null,
   "metadata": {
    "ExecuteTime": {
     "end_time": "2020-09-20T17:56:36.698655Z",
     "start_time": "2020-09-20T17:56:36.655619Z"
    }
   },
   "outputs": [],
   "source": [
    "df_first.drop(columns=[\"index\"], inplace=True)"
   ]
  },
  {
   "cell_type": "code",
   "execution_count": null,
   "metadata": {
    "ExecuteTime": {
     "end_time": "2020-09-20T17:56:36.732618Z",
     "start_time": "2020-09-20T17:56:36.701620Z"
    }
   },
   "outputs": [],
   "source": [
    "df_last.drop(columns=[\"index\"], inplace=True)"
   ]
  },
  {
   "cell_type": "code",
   "execution_count": null,
   "metadata": {
    "ExecuteTime": {
     "end_time": "2020-09-20T17:56:36.741618Z",
     "start_time": "2020-09-20T17:56:36.735622Z"
    }
   },
   "outputs": [],
   "source": [
    "len(df_first)"
   ]
  },
  {
   "cell_type": "code",
   "execution_count": null,
   "metadata": {
    "ExecuteTime": {
     "end_time": "2020-09-20T17:56:36.750619Z",
     "start_time": "2020-09-20T17:56:36.744620Z"
    }
   },
   "outputs": [],
   "source": [
    "len(df_last)"
   ]
  },
  {
   "cell_type": "code",
   "execution_count": null,
   "metadata": {
    "ExecuteTime": {
     "end_time": "2020-09-20T17:56:36.764620Z",
     "start_time": "2020-09-20T17:56:36.753618Z"
    }
   },
   "outputs": [],
   "source": [
    "df_first.head()"
   ]
  },
  {
   "cell_type": "code",
   "execution_count": null,
   "metadata": {
    "ExecuteTime": {
     "end_time": "2020-09-20T17:56:36.777617Z",
     "start_time": "2020-09-20T17:56:36.767621Z"
    }
   },
   "outputs": [],
   "source": [
    "df_last.head()"
   ]
  },
  {
   "cell_type": "code",
   "execution_count": null,
   "metadata": {
    "ExecuteTime": {
     "end_time": "2020-09-20T17:56:36.814620Z",
     "start_time": "2020-09-20T17:56:36.794618Z"
    }
   },
   "outputs": [],
   "source": [
    "df_last"
   ]
  },
  {
   "cell_type": "code",
   "execution_count": null,
   "metadata": {
    "ExecuteTime": {
     "end_time": "2020-09-20T17:56:36.825617Z",
     "start_time": "2020-09-20T17:56:36.816615Z"
    }
   },
   "outputs": [],
   "source": [
    "joined = df_first.merge(df_last, on=\"call\", how=\"left\")"
   ]
  },
  {
   "cell_type": "code",
   "execution_count": null,
   "metadata": {
    "ExecuteTime": {
     "end_time": "2020-09-20T17:56:36.834651Z",
     "start_time": "2020-09-20T17:56:36.827654Z"
    }
   },
   "outputs": [],
   "source": [
    "joined.drop(columns=[\"name_y\"], inplace=True)"
   ]
  },
  {
   "cell_type": "code",
   "execution_count": null,
   "metadata": {
    "ExecuteTime": {
     "end_time": "2020-09-20T17:56:36.843615Z",
     "start_time": "2020-09-20T17:56:36.836616Z"
    }
   },
   "outputs": [],
   "source": [
    "joined.rename(columns={\"name_x\": \"name\", \"date_x\": \"start_date\", \"date_y\": \"end_date\"}, inplace=True)"
   ]
  },
  {
   "cell_type": "markdown",
   "metadata": {},
   "source": [
    "#### Merge joined with df_info and add columns with date -> merged"
   ]
  },
  {
   "cell_type": "code",
   "execution_count": null,
   "metadata": {
    "ExecuteTime": {
     "end_time": "2020-09-20T17:56:36.853616Z",
     "start_time": "2020-09-20T17:56:36.847654Z"
    }
   },
   "outputs": [],
   "source": [
    "df_info.reset_index(inplace=True)"
   ]
  },
  {
   "cell_type": "code",
   "execution_count": null,
   "metadata": {
    "ExecuteTime": {
     "end_time": "2020-09-20T17:56:36.938614Z",
     "start_time": "2020-09-20T17:56:36.855615Z"
    }
   },
   "outputs": [],
   "source": [
    "df_info"
   ]
  },
  {
   "cell_type": "code",
   "execution_count": null,
   "metadata": {
    "ExecuteTime": {
     "end_time": "2020-09-20T17:56:36.983613Z",
     "start_time": "2020-09-20T17:56:36.940615Z"
    }
   },
   "outputs": [],
   "source": [
    "merged = df_info.merge(joined, on=\"name\", how=\"left\")"
   ]
  },
  {
   "cell_type": "code",
   "execution_count": null,
   "metadata": {
    "ExecuteTime": {
     "end_time": "2020-09-20T17:56:36.987619Z",
     "start_time": "2020-09-20T17:56:36.984616Z"
    }
   },
   "outputs": [],
   "source": [
    "from datetime import datetime"
   ]
  },
  {
   "cell_type": "code",
   "execution_count": null,
   "metadata": {
    "ExecuteTime": {
     "end_time": "2020-09-20T17:56:36.998648Z",
     "start_time": "2020-09-20T17:56:36.989618Z"
    }
   },
   "outputs": [],
   "source": [
    "merged[\"start_date\"]"
   ]
  },
  {
   "cell_type": "code",
   "execution_count": null,
   "metadata": {
    "ExecuteTime": {
     "end_time": "2020-09-20T17:56:37.856610Z",
     "start_time": "2020-09-20T17:56:37.000619Z"
    }
   },
   "outputs": [],
   "source": [
    "pattern = '%Y-%m-%dT%H:%M:%S.%f'\n",
    "merged[\"start_date_con\"] = merged[\"start_date\"].apply(lambda x: datetime.strptime(x, pattern))\n",
    "merged[\"end_date_con\"] = merged[\"end_date\"].apply(lambda x: datetime.strptime(x, pattern))\n",
    "merged[\"date_con\"] = merged[\"date\"].apply(lambda x: datetime.strptime(x, pattern))"
   ]
  },
  {
   "cell_type": "code",
   "execution_count": null,
   "metadata": {
    "ExecuteTime": {
     "end_time": "2020-09-20T17:56:37.865677Z",
     "start_time": "2020-09-20T17:56:37.858647Z"
    }
   },
   "outputs": [],
   "source": [
    "merged[\"start_diff\"] = abs(merged[\"date_con\"] - merged[\"start_date_con\"])"
   ]
  },
  {
   "cell_type": "code",
   "execution_count": null,
   "metadata": {
    "ExecuteTime": {
     "end_time": "2020-09-20T17:56:37.882052Z",
     "start_time": "2020-09-20T17:56:37.869081Z"
    }
   },
   "outputs": [],
   "source": [
    "merged[\"end_diff\"] = abs(merged[\"end_date_con\"] - merged[\"date_con\"])"
   ]
  },
  {
   "cell_type": "code",
   "execution_count": null,
   "metadata": {
    "ExecuteTime": {
     "end_time": "2020-09-20T17:56:38.964153Z",
     "start_time": "2020-09-20T17:56:37.885049Z"
    }
   },
   "outputs": [],
   "source": [
    "merged[\"diff\"] = merged.apply(lambda x: min(x[\"end_diff\"], x[\"start_diff\"]), axis=1)"
   ]
  },
  {
   "cell_type": "code",
   "execution_count": null,
   "metadata": {
    "ExecuteTime": {
     "end_time": "2020-09-20T17:56:38.995137Z",
     "start_time": "2020-09-20T17:56:38.966135Z"
    }
   },
   "outputs": [],
   "source": [
    "merged.head()"
   ]
  },
  {
   "cell_type": "code",
   "execution_count": null,
   "metadata": {
    "ExecuteTime": {
     "end_time": "2020-09-20T17:56:39.002137Z",
     "start_time": "2020-09-20T17:56:38.997106Z"
    }
   },
   "outputs": [],
   "source": [
    "len(df_info)"
   ]
  },
  {
   "cell_type": "code",
   "execution_count": null,
   "metadata": {
    "ExecuteTime": {
     "end_time": "2020-09-20T17:56:39.686824Z",
     "start_time": "2020-09-20T17:56:39.004138Z"
    }
   },
   "outputs": [],
   "source": [
    "info_preprocessed = merged.loc[merged.groupby('index').diff.idxmin()].reset_index(drop=True)"
   ]
  },
  {
   "cell_type": "code",
   "execution_count": null,
   "metadata": {
    "ExecuteTime": {
     "end_time": "2020-09-20T17:56:39.692660Z",
     "start_time": "2020-09-20T17:56:39.688692Z"
    }
   },
   "outputs": [],
   "source": [
    "len(info_preprocessed)"
   ]
  },
  {
   "cell_type": "code",
   "execution_count": null,
   "metadata": {
    "ExecuteTime": {
     "end_time": "2020-09-20T17:56:39.702693Z",
     "start_time": "2020-09-20T17:56:39.694658Z"
    }
   },
   "outputs": [],
   "source": [
    "info_preprocessed.drop(columns=[\"index\", \"start_date\", \"end_date\", \"start_date_con\", \"end_date_con\", \"date_con\", \"start_diff\", \"end_diff\", \"diff\"], inplace=True)"
   ]
  },
  {
   "cell_type": "code",
   "execution_count": null,
   "metadata": {
    "ExecuteTime": {
     "end_time": "2020-09-20T17:56:39.779862Z",
     "start_time": "2020-09-20T17:56:39.704691Z"
    }
   },
   "outputs": [],
   "source": [
    "dict_info_prep = info_preprocessed.to_dict(\"records\")"
   ]
  },
  {
   "cell_type": "code",
   "execution_count": null,
   "metadata": {
    "ExecuteTime": {
     "end_time": "2020-09-20T17:56:39.785695Z",
     "start_time": "2020-09-20T17:56:39.781699Z"
    }
   },
   "outputs": [],
   "source": [
    "dict_info_prep[0]"
   ]
  },
  {
   "cell_type": "code",
   "execution_count": null,
   "metadata": {
    "ExecuteTime": {
     "end_time": "2020-09-20T17:56:39.795703Z",
     "start_time": "2020-09-20T17:56:39.787695Z"
    }
   },
   "outputs": [],
   "source": [
    "def transform_event_info(event):\n",
    "    final_event = dict()\n",
    "    final_event[\"type\"] = \"message\"\n",
    "    callInfo = {\n",
    "        \"name\": event[\"name\"],\n",
    "        \"participants\": event[\"participants\"],\n",
    "        \"streaming\": event[\"streaming\"],\n",
    "        \"recording\": event[\"recording\"],\n",
    "        \"endpointRecording\": event[\"endpointRecording\"],\n",
    "        \"joinAudioMuteOverride\": event[\"joinAudioMuteOverride\"],\n",
    "        \"lockState\": event[\"lockState\"],\n",
    "        \"callType\": event[\"callType\"],\n",
    "        \"callCorrelator\": event[\"callCorrelator\"],\n",
    "        \"distributedInstances\": event[\"distributedInstances\"]\n",
    "    }\n",
    "    final_event[\"message\"] = {\n",
    "        \"messageId\": 1,\n",
    "        \"type\": \"callInfoUpdate\",\n",
    "        \"subscriptionIndex\": 2,\n",
    "        \"callInfo\": callInfo\n",
    "    }\n",
    "    final_event[\"date\"] = event[\"date\"]\n",
    "    final_event[\"call\"] = event[\"call\"]\n",
    "    return final_event"
   ]
  },
  {
   "cell_type": "code",
   "execution_count": null,
   "metadata": {
    "ExecuteTime": {
     "end_time": "2020-09-20T17:56:39.815660Z",
     "start_time": "2020-09-20T17:56:39.803663Z"
    }
   },
   "outputs": [],
   "source": [
    "mapped = list(map(transform_event_info, dict_info_prep))"
   ]
  },
  {
   "cell_type": "code",
   "execution_count": null,
   "metadata": {
    "ExecuteTime": {
     "end_time": "2020-09-20T17:56:40.194744Z",
     "start_time": "2020-09-20T17:56:39.819664Z"
    }
   },
   "outputs": [],
   "source": [
    "write_json(mapped, 'callInfo_data.json')"
   ]
  },
  {
   "cell_type": "markdown",
   "metadata": {},
   "source": [
    "### Add call id to rosterUpdate events"
   ]
  },
  {
   "cell_type": "code",
   "execution_count": null,
   "metadata": {
    "ExecuteTime": {
     "end_time": "2020-09-20T17:56:40.272740Z",
     "start_time": "2020-09-20T17:56:40.196743Z"
    }
   },
   "outputs": [],
   "source": [
    "all_participants.sort_values(by=[\"date\"], inplace=True)"
   ]
  },
  {
   "cell_type": "code",
   "execution_count": null,
   "metadata": {
    "ExecuteTime": {
     "end_time": "2020-09-20T17:56:40.282702Z",
     "start_time": "2020-09-20T17:56:40.274702Z"
    }
   },
   "outputs": [],
   "source": [
    "df_users = all_participants[[\"participant\", \"date\"]]"
   ]
  },
  {
   "cell_type": "code",
   "execution_count": null,
   "metadata": {
    "ExecuteTime": {
     "end_time": "2020-09-20T17:56:40.300736Z",
     "start_time": "2020-09-20T17:56:40.285704Z"
    }
   },
   "outputs": [],
   "source": [
    "part_first = df_users.drop_duplicates(subset=[\"participant\"], keep=\"first\")"
   ]
  },
  {
   "cell_type": "code",
   "execution_count": null,
   "metadata": {
    "ExecuteTime": {
     "end_time": "2020-09-20T17:56:40.317739Z",
     "start_time": "2020-09-20T17:56:40.303701Z"
    }
   },
   "outputs": [],
   "source": [
    "part_last = df_users.drop_duplicates(subset=[\"participant\"], keep=\"last\")"
   ]
  },
  {
   "cell_type": "code",
   "execution_count": null,
   "metadata": {
    "ExecuteTime": {
     "end_time": "2020-09-20T17:56:40.328707Z",
     "start_time": "2020-09-20T17:56:40.320739Z"
    }
   },
   "outputs": [],
   "source": [
    "joined = part_first.merge(part_last, on=\"participant\", how=\"left\")"
   ]
  },
  {
   "cell_type": "code",
   "execution_count": null,
   "metadata": {
    "ExecuteTime": {
     "end_time": "2020-09-20T17:56:40.337711Z",
     "start_time": "2020-09-20T17:56:40.330750Z"
    }
   },
   "outputs": [],
   "source": [
    "joined.rename(columns={\"date_x\": \"start_date\", \"date_y\": \"end_date\"}, inplace=True)"
   ]
  },
  {
   "cell_type": "code",
   "execution_count": null,
   "metadata": {
    "ExecuteTime": {
     "end_time": "2020-09-20T17:56:40.363703Z",
     "start_time": "2020-09-20T17:56:40.339707Z"
    }
   },
   "outputs": [],
   "source": [
    "joined"
   ]
  },
  {
   "cell_type": "code",
   "execution_count": null,
   "metadata": {
    "ExecuteTime": {
     "end_time": "2020-09-20T17:56:40.372740Z",
     "start_time": "2020-09-20T17:56:40.366708Z"
    }
   },
   "outputs": [],
   "source": [
    "df_names = df_list[[\"call\", \"name\", \"date\"]]"
   ]
  },
  {
   "cell_type": "code",
   "execution_count": null,
   "metadata": {
    "ExecuteTime": {
     "end_time": "2020-09-20T17:56:40.383702Z",
     "start_time": "2020-09-20T17:56:40.375740Z"
    }
   },
   "outputs": [],
   "source": [
    "df_first = df_names.drop_duplicates(subset=[\"call\"], keep=\"first\")"
   ]
  },
  {
   "cell_type": "code",
   "execution_count": null,
   "metadata": {
    "ExecuteTime": {
     "end_time": "2020-09-20T17:56:40.394704Z",
     "start_time": "2020-09-20T17:56:40.386704Z"
    }
   },
   "outputs": [],
   "source": [
    "df_last = df_names.drop_duplicates(subset=[\"call\"], keep=\"last\")"
   ]
  },
  {
   "cell_type": "code",
   "execution_count": null,
   "metadata": {
    "ExecuteTime": {
     "end_time": "2020-09-20T17:56:40.401741Z",
     "start_time": "2020-09-20T17:56:40.396737Z"
    }
   },
   "outputs": [],
   "source": [
    "df_first.reset_index(inplace=True)"
   ]
  },
  {
   "cell_type": "code",
   "execution_count": null,
   "metadata": {
    "ExecuteTime": {
     "end_time": "2020-09-20T17:56:40.409703Z",
     "start_time": "2020-09-20T17:56:40.403741Z"
    }
   },
   "outputs": [],
   "source": [
    "df_last.reset_index(inplace=True)"
   ]
  },
  {
   "cell_type": "code",
   "execution_count": null,
   "metadata": {
    "ExecuteTime": {
     "end_time": "2020-09-20T17:56:40.421742Z",
     "start_time": "2020-09-20T17:56:40.411730Z"
    }
   },
   "outputs": [],
   "source": [
    "joined_calls = df_first.merge(df_last, on=\"call\", how=\"left\")"
   ]
  },
  {
   "cell_type": "code",
   "execution_count": null,
   "metadata": {
    "ExecuteTime": {
     "end_time": "2020-09-20T17:56:40.432738Z",
     "start_time": "2020-09-20T17:56:40.423702Z"
    }
   },
   "outputs": [],
   "source": [
    "joined_calls.drop(columns=[\"name_y\"], inplace=True)"
   ]
  },
  {
   "cell_type": "code",
   "execution_count": null,
   "metadata": {
    "ExecuteTime": {
     "end_time": "2020-09-20T17:56:40.439709Z",
     "start_time": "2020-09-20T17:56:40.434707Z"
    }
   },
   "outputs": [],
   "source": [
    "joined_calls.rename(columns={\"name_x\": \"name\", \"date_x\": \"start_date\", \"date_y\": \"end_date\"}, inplace=True)"
   ]
  },
  {
   "cell_type": "code",
   "execution_count": null,
   "metadata": {
    "ExecuteTime": {
     "end_time": "2020-09-20T17:56:40.448741Z",
     "start_time": "2020-09-20T17:56:40.442742Z"
    }
   },
   "outputs": [],
   "source": [
    "joined_calls.drop(columns=[\"index_x\", \"index_y\"], inplace=True)"
   ]
  },
  {
   "cell_type": "code",
   "execution_count": null,
   "metadata": {
    "ExecuteTime": {
     "end_time": "2020-09-20T17:56:40.456741Z",
     "start_time": "2020-09-20T17:56:40.450739Z"
    }
   },
   "outputs": [],
   "source": [
    "joined_calls = joined_calls[[\"call\", \"start_date\", \"end_date\"]]"
   ]
  },
  {
   "cell_type": "code",
   "execution_count": null,
   "metadata": {
    "ExecuteTime": {
     "end_time": "2020-09-20T17:56:40.463738Z",
     "start_time": "2020-09-20T17:56:40.458707Z"
    }
   },
   "outputs": [],
   "source": [
    "joined[\"key\"] = 1"
   ]
  },
  {
   "cell_type": "code",
   "execution_count": null,
   "metadata": {
    "ExecuteTime": {
     "end_time": "2020-09-20T17:56:40.506743Z",
     "start_time": "2020-09-20T17:56:40.465707Z"
    }
   },
   "outputs": [],
   "source": [
    "joined_calls[\"key\"] = 1"
   ]
  },
  {
   "cell_type": "code",
   "execution_count": null,
   "metadata": {
    "ExecuteTime": {
     "end_time": "2020-09-20T17:56:40.533701Z",
     "start_time": "2020-09-20T17:56:40.508702Z"
    }
   },
   "outputs": [],
   "source": [
    "merged = pd.merge(joined,joined_calls,on='key').drop('key',axis=1)"
   ]
  },
  {
   "cell_type": "code",
   "execution_count": null,
   "metadata": {
    "ExecuteTime": {
     "end_time": "2020-09-20T17:56:40.544704Z",
     "start_time": "2020-09-20T17:56:40.535701Z"
    }
   },
   "outputs": [],
   "source": [
    "merged.rename(columns={\"start_date_x\":\"start_date_p\", \"end_date_x\":\"end_date_p\", \"start_date_y\":\"start_date_c\", \"end_date_y\":\"end_date_c\"}, inplace=True)"
   ]
  },
  {
   "cell_type": "code",
   "execution_count": null,
   "metadata": {
    "ExecuteTime": {
     "end_time": "2020-09-20T17:56:40.554745Z",
     "start_time": "2020-09-20T17:56:40.547707Z"
    }
   },
   "outputs": [],
   "source": [
    "merged.columns"
   ]
  },
  {
   "cell_type": "code",
   "execution_count": null,
   "metadata": {
    "ExecuteTime": {
     "end_time": "2020-09-20T17:56:42.686313Z",
     "start_time": "2020-09-20T17:56:40.556708Z"
    }
   },
   "outputs": [],
   "source": [
    "pattern = '%Y-%m-%dT%H:%M:%S.%f'\n",
    "merged[\"start_date_p_con\"] = merged[\"start_date_p\"].apply(lambda x: datetime.strptime(x, pattern))\n",
    "merged[\"end_date_p_con\"] = merged[\"end_date_p\"].apply(lambda x: datetime.strptime(x, pattern))\n",
    "merged[\"start_date_c_con\"] = merged[\"start_date_c\"].apply(lambda x: datetime.strptime(x, pattern))\n",
    "merged[\"end_date_c_con\"] = merged[\"end_date_c\"].apply(lambda x: datetime.strptime(x, pattern))"
   ]
  },
  {
   "cell_type": "code",
   "execution_count": null,
   "metadata": {
    "ExecuteTime": {
     "end_time": "2020-09-20T17:56:44.023226Z",
     "start_time": "2020-09-20T17:56:42.688153Z"
    }
   },
   "outputs": [],
   "source": [
    "merged[\"is_between\"] = merged.apply(lambda row: row[\"start_date_p_con\"]>=row[\"start_date_c_con\"] and row[\"end_date_p_con\"]<=row[\"end_date_c_con\"], axis=1)"
   ]
  },
  {
   "cell_type": "code",
   "execution_count": null,
   "metadata": {
    "ExecuteTime": {
     "end_time": "2020-09-20T17:56:44.030241Z",
     "start_time": "2020-09-20T17:56:44.025242Z"
    }
   },
   "outputs": [],
   "source": [
    "df_best = merged[merged[\"is_between\"]]"
   ]
  },
  {
   "cell_type": "code",
   "execution_count": null,
   "metadata": {
    "ExecuteTime": {
     "end_time": "2020-09-20T17:56:44.039240Z",
     "start_time": "2020-09-20T17:56:44.032208Z"
    }
   },
   "outputs": [],
   "source": [
    "len(pd.unique(df_best[\"participant\"]))"
   ]
  },
  {
   "cell_type": "code",
   "execution_count": null,
   "metadata": {
    "ExecuteTime": {
     "end_time": "2020-09-20T17:56:44.050209Z",
     "start_time": "2020-09-20T17:56:44.041206Z"
    }
   },
   "outputs": [],
   "source": [
    "len(pd.unique(df_best[\"participant\"])) == len(pd.unique(joined[\"participant\"]))"
   ]
  },
  {
   "cell_type": "code",
   "execution_count": null,
   "metadata": {
    "ExecuteTime": {
     "end_time": "2020-09-20T18:00:38.828715Z",
     "start_time": "2020-09-20T18:00:38.791229Z"
    }
   },
   "outputs": [],
   "source": [
    "rest_participants = [pid for pid in joined[\"participant\"] if pid not in list(df_best[\"participant\"])]"
   ]
  },
  {
   "cell_type": "code",
   "execution_count": null,
   "metadata": {
    "ExecuteTime": {
     "end_time": "2020-09-20T18:00:40.669020Z",
     "start_time": "2020-09-20T18:00:40.658498Z"
    }
   },
   "outputs": [],
   "source": [
    "rest_participants"
   ]
  },
  {
   "cell_type": "code",
   "execution_count": null,
   "metadata": {
    "ExecuteTime": {
     "end_time": "2020-09-20T18:00:44.359046Z",
     "start_time": "2020-09-20T18:00:44.348010Z"
    }
   },
   "outputs": [],
   "source": [
    "counted = df_best.groupby(by=[\"participant\"]).count()"
   ]
  },
  {
   "cell_type": "code",
   "execution_count": null,
   "metadata": {
    "ExecuteTime": {
     "end_time": "2020-09-20T18:00:46.190513Z",
     "start_time": "2020-09-20T18:00:46.153479Z"
    }
   },
   "outputs": [],
   "source": [
    "counted[counted[\"end_date_p\"]>1]"
   ]
  },
  {
   "cell_type": "code",
   "execution_count": null,
   "metadata": {
    "ExecuteTime": {
     "end_time": "2020-09-20T18:00:49.898377Z",
     "start_time": "2020-09-20T18:00:49.890374Z"
    }
   },
   "outputs": [],
   "source": [
    "to_add = merged[merged[\"participant\"].isin(rest_participants)]"
   ]
  },
  {
   "cell_type": "code",
   "execution_count": null,
   "metadata": {
    "ExecuteTime": {
     "end_time": "2020-09-20T18:00:50.425761Z",
     "start_time": "2020-09-20T18:00:50.417792Z"
    }
   },
   "outputs": [],
   "source": [
    "concatenated = pd.concat([df_best, to_add])"
   ]
  },
  {
   "cell_type": "code",
   "execution_count": null,
   "metadata": {
    "ExecuteTime": {
     "end_time": "2020-09-20T18:00:51.028359Z",
     "start_time": "2020-09-20T18:00:51.020352Z"
    }
   },
   "outputs": [],
   "source": [
    "len(concatenated)"
   ]
  },
  {
   "cell_type": "code",
   "execution_count": null,
   "metadata": {
    "ExecuteTime": {
     "end_time": "2020-09-20T18:00:51.574705Z",
     "start_time": "2020-09-20T18:00:51.565706Z"
    }
   },
   "outputs": [],
   "source": [
    "concatenated[\"start_diff\"] = abs(concatenated[\"start_date_p_con\"] - concatenated[\"start_date_c_con\"])"
   ]
  },
  {
   "cell_type": "code",
   "execution_count": null,
   "metadata": {
    "ExecuteTime": {
     "end_time": "2020-09-20T18:00:52.156315Z",
     "start_time": "2020-09-20T18:00:52.151316Z"
    }
   },
   "outputs": [],
   "source": [
    "concatenated[\"end_diff\"] = abs(concatenated[\"end_date_p_con\"] - concatenated[\"end_date_c_con\"])"
   ]
  },
  {
   "cell_type": "code",
   "execution_count": null,
   "metadata": {
    "ExecuteTime": {
     "end_time": "2020-09-20T18:00:52.696434Z",
     "start_time": "2020-09-20T18:00:52.635826Z"
    }
   },
   "outputs": [],
   "source": [
    "concatenated[\"diff\"] = concatenated.apply(lambda x: min(x[\"end_diff\"], x[\"start_diff\"]), axis=1)"
   ]
  },
  {
   "cell_type": "code",
   "execution_count": null,
   "metadata": {
    "ExecuteTime": {
     "end_time": "2020-09-20T18:00:53.254339Z",
     "start_time": "2020-09-20T18:00:53.227167Z"
    }
   },
   "outputs": [],
   "source": [
    "concatenated.head()"
   ]
  },
  {
   "cell_type": "code",
   "execution_count": null,
   "metadata": {
    "ExecuteTime": {
     "end_time": "2020-09-20T18:00:54.444544Z",
     "start_time": "2020-09-20T18:00:54.354052Z"
    }
   },
   "outputs": [],
   "source": [
    "user_preprocessed = concatenated.loc[concatenated.groupby('participant').diff.idxmin()].reset_index(drop=True)"
   ]
  },
  {
   "cell_type": "code",
   "execution_count": null,
   "metadata": {
    "ExecuteTime": {
     "end_time": "2020-09-20T18:00:55.356964Z",
     "start_time": "2020-09-20T18:00:55.348923Z"
    }
   },
   "outputs": [],
   "source": [
    "len(user_preprocessed)"
   ]
  },
  {
   "cell_type": "code",
   "execution_count": null,
   "metadata": {
    "ExecuteTime": {
     "end_time": "2020-09-20T18:00:56.525276Z",
     "start_time": "2020-09-20T18:00:56.515620Z"
    }
   },
   "outputs": [],
   "source": [
    "user_preprocessed[\"diff\"].min()"
   ]
  },
  {
   "cell_type": "code",
   "execution_count": null,
   "metadata": {
    "ExecuteTime": {
     "end_time": "2020-09-20T18:01:30.712373Z",
     "start_time": "2020-09-20T18:01:30.706383Z"
    }
   },
   "outputs": [],
   "source": [
    "maks = user_preprocessed[\"diff\"].max()"
   ]
  },
  {
   "cell_type": "code",
   "execution_count": null,
   "metadata": {
    "ExecuteTime": {
     "end_time": "2020-09-20T18:01:31.328397Z",
     "start_time": "2020-09-20T18:01:31.299439Z"
    }
   },
   "outputs": [],
   "source": [
    "user_preprocessed[user_preprocessed[\"diff\"]==maks]"
   ]
  },
  {
   "cell_type": "code",
   "execution_count": null,
   "metadata": {
    "ExecuteTime": {
     "end_time": "2020-09-20T18:01:31.883112Z",
     "start_time": "2020-09-20T18:01:31.877118Z"
    }
   },
   "outputs": [],
   "source": [
    "participant_call = user_preprocessed[[\"participant\", \"call\"]]"
   ]
  },
  {
   "cell_type": "code",
   "execution_count": null,
   "metadata": {
    "ExecuteTime": {
     "end_time": "2020-09-20T18:01:32.667777Z",
     "start_time": "2020-09-20T18:01:32.605694Z"
    }
   },
   "outputs": [],
   "source": [
    "final = all_participants.merge(participant_call, how=\"left\", on=\"participant\")"
   ]
  },
  {
   "cell_type": "code",
   "execution_count": null,
   "metadata": {
    "ExecuteTime": {
     "end_time": "2020-09-20T18:31:35.003666Z",
     "start_time": "2020-09-20T18:31:34.958065Z"
    }
   },
   "outputs": [],
   "source": [
    "final.sort_values(by=[\"date\"], inplace=True)"
   ]
  },
  {
   "cell_type": "code",
   "execution_count": null,
   "metadata": {
    "ExecuteTime": {
     "end_time": "2020-09-20T18:31:53.282936Z",
     "start_time": "2020-09-20T18:31:53.225248Z"
    }
   },
   "outputs": [],
   "source": [
    "final.reset_index(drop=True)"
   ]
  },
  {
   "cell_type": "code",
   "execution_count": null,
   "metadata": {
    "ExecuteTime": {
     "end_time": "2020-09-20T18:43:56.218989Z",
     "start_time": "2020-09-20T18:43:56.210501Z"
    }
   },
   "outputs": [],
   "source": [
    "type(\"a\") == str"
   ]
  },
  {
   "cell_type": "code",
   "execution_count": null,
   "metadata": {
    "ExecuteTime": {
     "end_time": "2020-09-20T18:45:19.728117Z",
     "start_time": "2020-09-20T18:45:19.722120Z"
    }
   },
   "outputs": [],
   "source": [
    "def get_value(column, event):\n",
    "    if not event[column] or (type(event[column])!=str and math.isnan(event[column])):\n",
    "        return None\n",
    "    else:\n",
    "        return event[column]"
   ]
  },
  {
   "cell_type": "code",
   "execution_count": null,
   "metadata": {
    "ExecuteTime": {
     "end_time": "2020-09-20T18:45:20.209070Z",
     "start_time": "2020-09-20T18:45:20.200070Z"
    }
   },
   "outputs": [],
   "source": [
    "def transform_event_roster(event):\n",
    "    final_event = dict()\n",
    "    final_event[\"type\"] = \"message\"\n",
    "    columns = [\"participant\", \"updateType\", \"name\", \"uri\", \"state\", \"direction\", \"movedParticipant\",\n",
    "              \"movedParticipantCallBridge\", \"canMove\", \"audioMuted\", \"videoMuted\", \"importance\", \"layout\", \n",
    "              \"activeSpeaker\", \"presenter\", \"endpointRecording\"]\n",
    "    update = dict()\n",
    "    for column in columns:\n",
    "        value = get_value(column, event)\n",
    "        if value:\n",
    "            update[column] = value\n",
    "    final_event[\"message\"] = {\n",
    "        \"messageId\": 1,\n",
    "        \"type\": \"rosterUpdate\",\n",
    "        \"subscriptionIndex\": 1,\n",
    "        \"updates\": [update]\n",
    "    }\n",
    "    final_event[\"date\"] = event[\"date\"]\n",
    "    final_event[\"call\"] = event[\"call\"]\n",
    "    return final_event"
   ]
  },
  {
   "cell_type": "code",
   "execution_count": null,
   "metadata": {
    "ExecuteTime": {
     "end_time": "2020-09-20T18:45:22.257660Z",
     "start_time": "2020-09-20T18:45:21.135637Z"
    }
   },
   "outputs": [],
   "source": [
    "mapped = list(map(transform_event_roster, final.to_dict(\"records\")))"
   ]
  },
  {
   "cell_type": "code",
   "execution_count": null,
   "metadata": {
    "ExecuteTime": {
     "end_time": "2020-09-20T18:49:06.397128Z",
     "start_time": "2020-09-20T18:49:06.151009Z"
    }
   },
   "outputs": [],
   "source": [
    "mapped"
   ]
  },
  {
   "cell_type": "code",
   "execution_count": null,
   "metadata": {
    "ExecuteTime": {
     "end_time": "2020-09-20T18:45:27.518681Z",
     "start_time": "2020-09-20T18:45:24.997144Z"
    }
   },
   "outputs": [],
   "source": [
    "write_json(mapped, 'roster_data.json')"
   ]
  }
 ],
 "metadata": {
  "kernelspec": {
   "display_name": "Python 3",
   "language": "python",
   "name": "python3"
  },
  "language_info": {
   "codemirror_mode": {
    "name": "ipython",
    "version": 3
   },
   "file_extension": ".py",
   "mimetype": "text/x-python",
   "name": "python",
   "nbconvert_exporter": "python",
   "pygments_lexer": "ipython3",
   "version": "3.7.3"
  },
  "toc": {
   "base_numbering": 1,
   "nav_menu": {},
   "number_sections": true,
   "sideBar": true,
   "skip_h1_title": false,
   "title_cell": "Table of Contents",
   "title_sidebar": "Contents",
   "toc_cell": false,
   "toc_position": {},
   "toc_section_display": true,
   "toc_window_display": true
  }
 },
 "nbformat": 4,
 "nbformat_minor": 2
}
